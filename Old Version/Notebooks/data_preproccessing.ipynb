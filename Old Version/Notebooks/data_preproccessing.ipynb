{
 "cells": [
  {
   "cell_type": "code",
   "execution_count": 1,
   "id": "f82db863-9f0f-4cac-8142-cf3c09ca6e91",
   "metadata": {},
   "outputs": [
    {
     "name": "stdout",
     "output_type": "stream",
     "text": [
      "WARNING:tensorflow:From C:\\Users\\hadyh\\AppData\\Local\\Programs\\Python\\Python311\\Lib\\site-packages\\keras\\src\\losses.py:2976: The name tf.losses.sparse_softmax_cross_entropy is deprecated. Please use tf.compat.v1.losses.sparse_softmax_cross_entropy instead.\n",
      "\n"
     ]
    }
   ],
   "source": [
    "import cv2\n",
    "import os\n",
    "import mediapipe as mp\n",
    "import numpy as np"
   ]
  },
  {
   "cell_type": "code",
   "execution_count": 2,
   "id": "7aa5d535-0100-4b0d-ac9d-d42f56df5cb9",
   "metadata": {},
   "outputs": [],
   "source": [
    "def capture_images():\n",
    "    cap = cv2.VideoCapture(0)\n",
    "    count = 0\n",
    "\n",
    "    while True:\n",
    "        ret, frame = cap.read()\n",
    "        if not ret:\n",
    "            print(\"Failed to capture image\")\n",
    "            break\n",
    "        cv2.imshow('Capture Gesture', (frame))\n",
    "\n",
    "        key = cv2.waitKey(1)\n",
    "        if key == ord('c'): \n",
    "            image_name = f\"{image_prefix}_{count}.jpg\"\n",
    "            image_path = os.path.join(output_dir, image_name)\n",
    "            cv2.imwrite(image_path, frame)\n",
    "            print(f\"Image {image_name} captured\")\n",
    "            count += 1\n",
    "        elif key == ord('q') or count >= 100:\n",
    "            break\n",
    "\n",
    "    cap.release()\n",
    "    cv2.destroyAllWindows()"
   ]
  },
  {
   "cell_type": "code",
   "execution_count": 3,
   "id": "d16c5735-dc94-43cc-a5b8-3e3d49d62648",
   "metadata": {},
   "outputs": [],
   "source": [
    "mp_hands = mp.solutions.hands\n",
    "hands = mp_hands.Hands()\n",
    "mp_drawing = mp.solutions.drawing_utils\n",
    "def draw_hand_landmarks(frame):\n",
    "    \n",
    "    frame_rgb = cv2.cvtColor(frame, cv2.COLOR_BGR2RGB)\n",
    "    results = hands.process(frame_rgb)\n",
    "    if results.multi_hand_landmarks:\n",
    "        for hand_landmarks in results.multi_hand_landmarks:\n",
    "            mp_drawing.draw_landmarks(frame, hand_landmarks, mp_hands.HAND_CONNECTIONS)\n",
    "\n",
    "    return frame"
   ]
  },
  {
   "cell_type": "code",
   "execution_count": 4,
   "id": "6f152a07-bfce-4784-a435-4b5391fa802f",
   "metadata": {},
   "outputs": [],
   "source": [
    "def extract(frame):\n",
    "    # Load the MediaPipe Hands model\n",
    "    mp_hands = mp.solutions.hands\n",
    "    hands = mp_hands.Hands(static_image_mode=False, max_num_hands=2, min_detection_confidence=0.5, min_tracking_confidence=0.5)\n",
    "    \n",
    "    frame_rgb = cv2.cvtColor(frame, cv2.COLOR_BGR2RGB)\n",
    "    results = hands.process(frame_rgb)\n",
    "    lm = np.zeros((2, 21, 3))\n",
    "    for i, hand_landmarks in enumerate(results.multi_hand_landmarks):\n",
    "        for j, landmark in enumerate(hand_landmarks.landmark):\n",
    "            lm[i][j] = [landmark.x, landmark.y, landmark.z]    \n",
    "    hands.close()\n",
    "\n",
    "    return lm"
   ]
  },
  {
   "cell_type": "code",
   "execution_count": 5,
   "id": "5d45f94d-7017-4371-b228-8884ea761482",
   "metadata": {},
   "outputs": [],
   "source": [
    "def load_dataset(dataset_dir):\n",
    "    dataset = []\n",
    "    labels = []\n",
    "\n",
    "    gesture_names = os.listdir(dataset_dir)\n",
    "    for gesture_name in gesture_names:\n",
    "        gesture_dir = os.path.join(dataset_dir, gesture_name)\n",
    "\n",
    "        if os.path.isdir(gesture_dir):\n",
    "            for filename in os.listdir(gesture_dir):\n",
    "                image_path = os.path.join(gesture_dir, filename)\n",
    "                image = cv2.imread(image_path)\n",
    "\n",
    "                dataset.append(image)\n",
    "                labels.append(gesture_name)\n",
    "\n",
    "    return dataset, labels"
   ]
  },
  {
   "cell_type": "code",
   "execution_count": 11,
   "id": "99dab631-4b03-4618-ad63-ab21757d3891",
   "metadata": {},
   "outputs": [],
   "source": [
    "dataset_dir = 'dataset'\n",
    "\n",
    "dataset, labels = load_dataset(dataset_dir)"
   ]
  },
  {
   "cell_type": "code",
   "execution_count": 12,
   "id": "bff5b3da-6953-427e-994d-d87abb9e4c50",
   "metadata": {},
   "outputs": [],
   "source": [
    "all_landmarks = []\n",
    "new_labels = []\n",
    "deleted = 0\n",
    "L = 0\n",
    "for img in dataset:\n",
    "    try:\n",
    "        lm = extract(img)\n",
    "        all_landmarks.append(lm)\n",
    "        new_labels.append(labels[L])\n",
    "        L += 1\n",
    "    except:\n",
    "        L += 1\n",
    "        deleted += 1\n",
    "        continue\n",
    "    # all_landmarks.append(lm)\n",
    "landmarks = np.array(all_landmarks)"
   ]
  },
  {
   "cell_type": "code",
   "execution_count": 14,
   "id": "ca5aae51-ad0b-4567-aa41-a6502b6fa785",
   "metadata": {},
   "outputs": [
    {
     "data": {
      "text/plain": [
       "(23, (372, 2, 21, 3), 372)"
      ]
     },
     "execution_count": 14,
     "metadata": {},
     "output_type": "execute_result"
    }
   ],
   "source": [
    "deleted, landmarks.shape, len(new_labels)"
   ]
  },
  {
   "cell_type": "code",
   "execution_count": 16,
   "id": "dc3c5da7-5248-47fa-ba92-bf9c5c90c4b1",
   "metadata": {},
   "outputs": [],
   "source": [
    "new_labels = np.array(new_labels)\n",
    "np.savez('Npz Files/landmarks.npz', arr=landmarks)\n",
    "np.savez('Npz Files/labels.npz', arr=new_labels)"
   ]
  },
  {
   "cell_type": "code",
   "execution_count": 31,
   "id": "101b1d24-9fcb-4b58-81ad-99bec74ad9ae",
   "metadata": {},
   "outputs": [
    {
     "name": "stdout",
     "output_type": "stream",
     "text": [
      "Image a_0.jpg captured\n",
      "Image a_1.jpg captured\n",
      "Image a_2.jpg captured\n",
      "Image a_3.jpg captured\n",
      "Image a_4.jpg captured\n",
      "Image a_5.jpg captured\n",
      "Image a_6.jpg captured\n",
      "Image a_7.jpg captured\n",
      "Image a_8.jpg captured\n",
      "Image a_9.jpg captured\n",
      "Image a_10.jpg captured\n",
      "Image a_11.jpg captured\n",
      "Image a_12.jpg captured\n",
      "Image a_13.jpg captured\n",
      "Image a_14.jpg captured\n",
      "Image a_15.jpg captured\n",
      "Image a_16.jpg captured\n",
      "Image a_17.jpg captured\n",
      "Image a_18.jpg captured\n",
      "Image a_19.jpg captured\n",
      "Image a_20.jpg captured\n",
      "Image a_21.jpg captured\n",
      "Image a_22.jpg captured\n",
      "Image a_23.jpg captured\n",
      "Image a_24.jpg captured\n",
      "Image a_25.jpg captured\n",
      "Image a_26.jpg captured\n",
      "Image a_27.jpg captured\n",
      "Image a_28.jpg captured\n",
      "Image a_29.jpg captured\n",
      "Image a_30.jpg captured\n",
      "Image a_31.jpg captured\n",
      "Image a_32.jpg captured\n",
      "Image a_33.jpg captured\n",
      "Image a_34.jpg captured\n",
      "Image a_35.jpg captured\n",
      "Image a_36.jpg captured\n",
      "Image a_37.jpg captured\n",
      "Image a_38.jpg captured\n",
      "Image a_39.jpg captured\n",
      "Image a_40.jpg captured\n",
      "Image a_41.jpg captured\n",
      "Image a_42.jpg captured\n",
      "Image a_43.jpg captured\n",
      "Image a_44.jpg captured\n",
      "Image a_45.jpg captured\n",
      "Image a_46.jpg captured\n",
      "Image a_47.jpg captured\n",
      "Image a_48.jpg captured\n",
      "Image a_49.jpg captured\n",
      "Image a_50.jpg captured\n"
     ]
    }
   ],
   "source": [
    "image_prefix = 'a'\n",
    "output_dir = 'dataset/three'\n",
    "capture_images()"
   ]
  },
  {
   "cell_type": "code",
   "execution_count": 14,
   "id": "bab53ed5-5b28-4b8c-ba54-a51afd7dc1b1",
   "metadata": {},
   "outputs": [],
   "source": [
    "# Display the image in a window\n",
    "cv2.imshow('Image', dataset[51])\n",
    "\n",
    "# Wait for a key press and close the window when any key is pressed\n",
    "cv2.waitKey(0)\n",
    "cv2.destroyAllWindows()"
   ]
  },
  {
   "cell_type": "code",
   "execution_count": null,
   "id": "d3a5c139-a5ab-446c-b815-4e94dd0c168e",
   "metadata": {},
   "outputs": [],
   "source": []
  }
 ],
 "metadata": {
  "kernelspec": {
   "display_name": "Python 3 (ipykernel)",
   "language": "python",
   "name": "python3"
  },
  "language_info": {
   "codemirror_mode": {
    "name": "ipython",
    "version": 3
   },
   "file_extension": ".py",
   "mimetype": "text/x-python",
   "name": "python",
   "nbconvert_exporter": "python",
   "pygments_lexer": "ipython3",
   "version": "3.11.5"
  }
 },
 "nbformat": 4,
 "nbformat_minor": 5
}
