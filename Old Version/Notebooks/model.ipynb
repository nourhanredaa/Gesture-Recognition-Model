{
 "cells": [
  {
   "cell_type": "code",
   "execution_count": 1,
   "id": "a61cbca6-9e87-4f66-a0d7-f80b77bd3c2b",
   "metadata": {},
   "outputs": [
    {
     "name": "stdout",
     "output_type": "stream",
     "text": [
      "WARNING:tensorflow:From C:\\Users\\hadyh\\AppData\\Local\\Programs\\Python\\Python311\\Lib\\site-packages\\keras\\src\\losses.py:2976: The name tf.losses.sparse_softmax_cross_entropy is deprecated. Please use tf.compat.v1.losses.sparse_softmax_cross_entropy instead.\n",
      "\n"
     ]
    }
   ],
   "source": [
    "import cv2\n",
    "import os\n",
    "import mediapipe as mp\n",
    "import numpy as np\n",
    "import tensorflow as tf\n",
    "from tensorflow.keras import layers, models\n",
    "from sklearn.preprocessing import LabelEncoder"
   ]
  },
  {
   "cell_type": "code",
   "execution_count": 11,
   "id": "7766cbc7-b65f-4950-a1e4-9d79d931bca9",
   "metadata": {},
   "outputs": [],
   "source": [
    "tf.keras.backend.clear_session()"
   ]
  },
  {
   "cell_type": "code",
   "execution_count": 2,
   "id": "2ed9e68d-8fdf-48f5-8cab-9ea4a3db4039",
   "metadata": {},
   "outputs": [],
   "source": [
    "landmarks = np.load('Npz files/landmarks.npz')\n",
    "labels = np.load('Npz files/labels.npz')\n",
    "landmarks = landmarks['arr']\n",
    "labels = labels['arr']"
   ]
  },
  {
   "cell_type": "code",
   "execution_count": 3,
   "id": "0251447b-2799-4717-8732-6e472214c16b",
   "metadata": {},
   "outputs": [],
   "source": [
    "landmarks = landmarks.reshape(372, 42, 3)"
   ]
  },
  {
   "cell_type": "code",
   "execution_count": 14,
   "id": "13d04f9b-3589-43b2-a177-386f8f6a529e",
   "metadata": {},
   "outputs": [
    {
     "data": {
      "text/plain": [
       "((372, 42, 3), (372,))"
      ]
     },
     "execution_count": 14,
     "metadata": {},
     "output_type": "execute_result"
    }
   ],
   "source": [
    "landmarks.shape,labels.shape"
   ]
  },
  {
   "cell_type": "code",
   "execution_count": 4,
   "id": "c3fbd748-2971-4bd9-bfd6-f2cec0611269",
   "metadata": {},
   "outputs": [],
   "source": [
    "from sklearn.model_selection import train_test_split\n",
    "label_encoder = LabelEncoder()\n",
    "labels = label_encoder.fit_transform(labels)\n",
    "# X_train, X_test, y_train, y_test = train_test_split(landmarks, labels, test_size=0.2, random_state=42)"
   ]
  },
  {
   "cell_type": "code",
   "execution_count": 7,
   "id": "d3af143a-694a-41d1-976c-6740c4736de1",
   "metadata": {},
   "outputs": [],
   "source": [
    "decoded_labels = label_encoder.inverse_transform(labels)"
   ]
  },
  {
   "cell_type": "code",
   "execution_count": 18,
   "id": "3083e37f-d46c-432e-9d57-eb17043c5415",
   "metadata": {},
   "outputs": [
    {
     "data": {
      "text/plain": [
       "(7, 'victory')"
      ]
     },
     "execution_count": 18,
     "metadata": {},
     "output_type": "execute_result"
    }
   ],
   "source": [
    "labels[370],decoded_labels[370]"
   ]
  },
  {
   "cell_type": "code",
   "execution_count": 16,
   "id": "79188c1e-f12e-4c34-ab2e-ce941152fe55",
   "metadata": {},
   "outputs": [],
   "source": [
    "import tensorflow as tf\n",
    "from tensorflow.keras import layers, models\n",
    "\n",
    "input_shape = (42, 3)\n",
    "\n",
    "model = models.Sequential([\n",
    "    layers.Flatten(input_shape=input_shape),  \n",
    "    layers.Dense(64, activation='relu'),  \n",
    "    layers.Dense(32, activation='relu'),  \n",
    "    layers.Dense(8, activation='softmax')])\n",
    "\n",
    "model.compile(optimizer='adam', loss='mean_squared_error', metrics=['accuracy'])  # Example compilation, adjust for your task"
   ]
  },
  {
   "cell_type": "code",
   "execution_count": 17,
   "id": "fb2fb6b8-616d-42f3-999a-b1496d640204",
   "metadata": {},
   "outputs": [
    {
     "name": "stdout",
     "output_type": "stream",
     "text": [
      "Model: \"sequential_1\"\n",
      "_________________________________________________________________\n",
      " Layer (type)                Output Shape              Param #   \n",
      "=================================================================\n",
      " conv1d (Conv1D)             (None, 42, 32)            320       \n",
      "                                                                 \n",
      " max_pooling1d (MaxPooling1  (None, 21, 32)            0         \n",
      " D)                                                              \n",
      "                                                                 \n",
      " conv1d_1 (Conv1D)           (None, 21, 64)            6208      \n",
      "                                                                 \n",
      " max_pooling1d_1 (MaxPoolin  (None, 10, 64)            0         \n",
      " g1D)                                                            \n",
      "                                                                 \n",
      " conv1d_2 (Conv1D)           (None, 10, 64)            12352     \n",
      "                                                                 \n",
      " flatten_1 (Flatten)         (None, 640)               0         \n",
      "                                                                 \n",
      " dense_3 (Dense)             (None, 64)                41024     \n",
      "                                                                 \n",
      " dense_4 (Dense)             (None, 8)                 520       \n",
      "                                                                 \n",
      "=================================================================\n",
      "Total params: 60424 (236.03 KB)\n",
      "Trainable params: 60424 (236.03 KB)\n",
      "Non-trainable params: 0 (0.00 Byte)\n",
      "_________________________________________________________________\n"
     ]
    }
   ],
   "source": [
    "import tensorflow as tf\n",
    "\n",
    "# Define the CNN model\n",
    "def create_cnn_model(input_shape, num_classes):\n",
    "    model = tf.keras.Sequential([\n",
    "        tf.keras.layers.Conv1D(32, 3, padding='same', activation='relu', input_shape=input_shape),\n",
    "        tf.keras.layers.MaxPooling1D(2),\n",
    "        tf.keras.layers.Conv1D(64, 3, padding='same', activation='relu'),\n",
    "        tf.keras.layers.MaxPooling1D(2),\n",
    "        tf.keras.layers.Conv1D(64, 3, padding='same', activation='relu'),\n",
    "        tf.keras.layers.Flatten(),\n",
    "        tf.keras.layers.Dense(64, activation='relu'),\n",
    "        tf.keras.layers.Dense(num_classes, activation='softmax')\n",
    "    ])\n",
    "    return model\n",
    "\n",
    "# Define input shape and number of classes\n",
    "input_shape = (42, 3)  # Example input shape for 1D data with 100 timesteps and 1 feature\n",
    "num_classes = 8  # Example number of classes\n",
    "\n",
    "# Create the model\n",
    "model = create_cnn_model(input_shape, num_classes)\n",
    "\n",
    "# Compile the model\n",
    "model.compile(optimizer='adam',\n",
    "              loss='sparse_categorical_crossentropy',\n",
    "              metrics=['accuracy'])\n",
    "\n",
    "# Print model summary\n",
    "model.summary()\n"
   ]
  },
  {
   "cell_type": "code",
   "execution_count": 18,
   "id": "f8dff195-5f50-45f4-b311-93a912f00812",
   "metadata": {},
   "outputs": [
    {
     "name": "stdout",
     "output_type": "stream",
     "text": [
      "Epoch 1/50\n",
      "10/10 [==============================] - 2s 7ms/step - loss: 2.0744 - accuracy: 0.1279\n",
      "Epoch 2/50\n",
      "10/10 [==============================] - 0s 5ms/step - loss: 2.0517 - accuracy: 0.1852\n",
      "Epoch 3/50\n",
      "10/10 [==============================] - 0s 5ms/step - loss: 2.0339 - accuracy: 0.2290\n",
      "Epoch 4/50\n",
      "10/10 [==============================] - 0s 5ms/step - loss: 2.0075 - accuracy: 0.2189\n",
      "Epoch 5/50\n",
      "10/10 [==============================] - 0s 6ms/step - loss: 1.9755 - accuracy: 0.2424\n",
      "Epoch 6/50\n",
      "10/10 [==============================] - 0s 5ms/step - loss: 1.9290 - accuracy: 0.2525\n",
      "Epoch 7/50\n",
      "10/10 [==============================] - 0s 5ms/step - loss: 1.8688 - accuracy: 0.2963\n",
      "Epoch 8/50\n",
      "10/10 [==============================] - 0s 5ms/step - loss: 1.8070 - accuracy: 0.3199\n",
      "Epoch 9/50\n",
      "10/10 [==============================] - 0s 5ms/step - loss: 1.7425 - accuracy: 0.4007\n",
      "Epoch 10/50\n",
      "10/10 [==============================] - 0s 5ms/step - loss: 1.6501 - accuracy: 0.4007\n",
      "Epoch 11/50\n",
      "10/10 [==============================] - 0s 5ms/step - loss: 1.5740 - accuracy: 0.4209\n",
      "Epoch 12/50\n",
      "10/10 [==============================] - 0s 5ms/step - loss: 1.5328 - accuracy: 0.4613\n",
      "Epoch 13/50\n",
      "10/10 [==============================] - 0s 5ms/step - loss: 1.4635 - accuracy: 0.4916\n",
      "Epoch 14/50\n",
      "10/10 [==============================] - 0s 5ms/step - loss: 1.3995 - accuracy: 0.5152\n",
      "Epoch 15/50\n",
      "10/10 [==============================] - 0s 5ms/step - loss: 1.3964 - accuracy: 0.4781\n",
      "Epoch 16/50\n",
      "10/10 [==============================] - 0s 5ms/step - loss: 1.3753 - accuracy: 0.5084\n",
      "Epoch 17/50\n",
      "10/10 [==============================] - 0s 5ms/step - loss: 1.3215 - accuracy: 0.5522\n",
      "Epoch 18/50\n",
      "10/10 [==============================] - 0s 5ms/step - loss: 1.2440 - accuracy: 0.5926\n",
      "Epoch 19/50\n",
      "10/10 [==============================] - 0s 5ms/step - loss: 1.2031 - accuracy: 0.5522\n",
      "Epoch 20/50\n",
      "10/10 [==============================] - 0s 5ms/step - loss: 1.1891 - accuracy: 0.6195\n",
      "Epoch 21/50\n",
      "10/10 [==============================] - 0s 5ms/step - loss: 1.1599 - accuracy: 0.6532\n",
      "Epoch 22/50\n",
      "10/10 [==============================] - 0s 5ms/step - loss: 1.1441 - accuracy: 0.6128\n",
      "Epoch 23/50\n",
      "10/10 [==============================] - 0s 5ms/step - loss: 1.0438 - accuracy: 0.6633\n",
      "Epoch 24/50\n",
      "10/10 [==============================] - 0s 5ms/step - loss: 0.9663 - accuracy: 0.7273\n",
      "Epoch 25/50\n",
      "10/10 [==============================] - 0s 5ms/step - loss: 0.9324 - accuracy: 0.7340\n",
      "Epoch 26/50\n",
      "10/10 [==============================] - 0s 5ms/step - loss: 0.8666 - accuracy: 0.7677\n",
      "Epoch 27/50\n",
      "10/10 [==============================] - 0s 6ms/step - loss: 0.8232 - accuracy: 0.7643\n",
      "Epoch 28/50\n",
      "10/10 [==============================] - 0s 6ms/step - loss: 0.7998 - accuracy: 0.7542\n",
      "Epoch 29/50\n",
      "10/10 [==============================] - 0s 5ms/step - loss: 0.7324 - accuracy: 0.8182\n",
      "Epoch 30/50\n",
      "10/10 [==============================] - 0s 5ms/step - loss: 0.6781 - accuracy: 0.8148\n",
      "Epoch 31/50\n",
      "10/10 [==============================] - 0s 6ms/step - loss: 0.6391 - accuracy: 0.8148\n",
      "Epoch 32/50\n",
      "10/10 [==============================] - 0s 5ms/step - loss: 0.5864 - accuracy: 0.8451\n",
      "Epoch 33/50\n",
      "10/10 [==============================] - 0s 6ms/step - loss: 0.5511 - accuracy: 0.8552\n",
      "Epoch 34/50\n",
      "10/10 [==============================] - 0s 5ms/step - loss: 0.5313 - accuracy: 0.8485\n",
      "Epoch 35/50\n",
      "10/10 [==============================] - 0s 5ms/step - loss: 0.5117 - accuracy: 0.8653\n",
      "Epoch 36/50\n",
      "10/10 [==============================] - 0s 6ms/step - loss: 0.4955 - accuracy: 0.8451\n",
      "Epoch 37/50\n",
      "10/10 [==============================] - 0s 7ms/step - loss: 0.4478 - accuracy: 0.8721\n",
      "Epoch 38/50\n",
      "10/10 [==============================] - 0s 5ms/step - loss: 0.4327 - accuracy: 0.8822\n",
      "Epoch 39/50\n",
      "10/10 [==============================] - 0s 5ms/step - loss: 0.4276 - accuracy: 0.8653\n",
      "Epoch 40/50\n",
      "10/10 [==============================] - 0s 5ms/step - loss: 0.4120 - accuracy: 0.8788\n",
      "Epoch 41/50\n",
      "10/10 [==============================] - 0s 5ms/step - loss: 0.3939 - accuracy: 0.8586\n",
      "Epoch 42/50\n",
      "10/10 [==============================] - 0s 5ms/step - loss: 0.3824 - accuracy: 0.8754\n",
      "Epoch 43/50\n",
      "10/10 [==============================] - 0s 5ms/step - loss: 0.4006 - accuracy: 0.8754\n",
      "Epoch 44/50\n",
      "10/10 [==============================] - 0s 5ms/step - loss: 0.3614 - accuracy: 0.8889\n",
      "Epoch 45/50\n",
      "10/10 [==============================] - 0s 5ms/step - loss: 0.4627 - accuracy: 0.8754\n",
      "Epoch 46/50\n",
      "10/10 [==============================] - 0s 4ms/step - loss: 0.3920 - accuracy: 0.8822\n",
      "Epoch 47/50\n",
      "10/10 [==============================] - 0s 7ms/step - loss: 0.3912 - accuracy: 0.8687\n",
      "Epoch 48/50\n",
      "10/10 [==============================] - 0s 5ms/step - loss: 0.3459 - accuracy: 0.8956\n",
      "Epoch 49/50\n",
      "10/10 [==============================] - 0s 5ms/step - loss: 0.3285 - accuracy: 0.8788\n",
      "Epoch 50/50\n",
      "10/10 [==============================] - 0s 5ms/step - loss: 0.3086 - accuracy: 0.9091\n"
     ]
    },
    {
     "data": {
      "text/plain": [
       "<keras.src.callbacks.History at 0x14a35a2f210>"
      ]
     },
     "execution_count": 18,
     "metadata": {},
     "output_type": "execute_result"
    }
   ],
   "source": [
    "model.fit(X_train, y_train, epochs=50, batch_size=32)"
   ]
  },
  {
   "cell_type": "code",
   "execution_count": 19,
   "id": "e4eb4ce3-5a5f-47da-85b7-b23e78265c77",
   "metadata": {},
   "outputs": [
    {
     "name": "stdout",
     "output_type": "stream",
     "text": [
      "3/3 [==============================] - 0s 4ms/step - loss: 0.4886 - accuracy: 0.8133\n"
     ]
    },
    {
     "data": {
      "text/plain": [
       "[0.48860082030296326, 0.8133333325386047]"
      ]
     },
     "execution_count": 19,
     "metadata": {},
     "output_type": "execute_result"
    }
   ],
   "source": [
    "model.evaluate(X_test,y_test)"
   ]
  },
  {
   "cell_type": "code",
   "execution_count": null,
   "id": "1e4608e5-dd8f-416c-920d-51744eb51fb4",
   "metadata": {},
   "outputs": [],
   "source": []
  }
 ],
 "metadata": {
  "kernelspec": {
   "display_name": "Python 3 (ipykernel)",
   "language": "python",
   "name": "python3"
  },
  "language_info": {
   "codemirror_mode": {
    "name": "ipython",
    "version": 3
   },
   "file_extension": ".py",
   "mimetype": "text/x-python",
   "name": "python",
   "nbconvert_exporter": "python",
   "pygments_lexer": "ipython3",
   "version": "3.11.5"
  }
 },
 "nbformat": 4,
 "nbformat_minor": 5
}
