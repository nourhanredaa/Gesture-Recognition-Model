{
 "cells": [
  {
   "cell_type": "code",
   "execution_count": 1,
   "id": "f69b2ad0-6082-4099-804f-3f61108add2c",
   "metadata": {},
   "outputs": [
    {
     "name": "stdout",
     "output_type": "stream",
     "text": [
      "WARNING:tensorflow:From c:\\Users\\SOFT ZONE\\AppData\\Local\\Programs\\Python\\Python311\\Lib\\site-packages\\keras\\src\\losses.py:2976: The name tf.losses.sparse_softmax_cross_entropy is deprecated. Please use tf.compat.v1.losses.sparse_softmax_cross_entropy instead.\n",
      "\n"
     ]
    }
   ],
   "source": [
    "import cv2\n",
    "import json\n",
    "import time\n",
    "import numpy as np\n",
    "import mediapipe as mp\n",
    "import tensorflow as tf\n",
    "from collections import deque\n",
    "from concurrent.futures import ThreadPoolExecutor\n",
    "import os\n",
    "import pandas as pd\n",
    "\n",
    "tf.get_logger().setLevel('ERROR')"
   ]
  },
  {
   "cell_type": "code",
   "execution_count": null,
   "id": "0f970516-b04c-46b3-8bb7-071f76c359e3",
   "metadata": {},
   "outputs": [],
   "source": [
    "import cv2\n",
    "import os\n",
    "\n",
    "# Directory to save the new gesture images\n",
    "new_gesture_dir = \"none\"\n",
    "\n",
    "# Create directory if it doesn't exist\n",
    "if not os.path.exists(new_gesture_dir):\n",
    "    os.makedirs(new_gesture_dir)\n",
    "\n",
    "# Initialize webcam\n",
    "cap = cv2.VideoCapture(0)\n",
    "\n",
    "# Counter for saved images\n",
    "img_counter = 0\n",
    "\n",
    "while True:\n",
    "    ret, frame = cap.read()\n",
    "    if not ret:\n",
    "        print(\"Failed to capture image\")\n",
    "        break\n",
    "\n",
    "    cv2.imshow(\"Collecting New Gesture\", frame)\n",
    "    \n",
    "    # Press 'c' to capture an image\n",
    "    key = cv2.waitKey(1)\n",
    "    if key == ord('c'):\n",
    "        img_name = os.path.join(new_gesture_dir, \"gesture_{}.png\".format(img_counter))\n",
    "        cv2.imwrite(img_name, frame)\n",
    "        print(\"{} written!\".format(img_name))\n",
    "        img_counter += 1\n",
    "    # Press 'q' to quit\n",
    "    elif key == ord('q'):\n",
    "        break\n",
    "\n",
    "# Release the webcam and close OpenCV windows\n",
    "cap.release()\n",
    "cv2.destroyAllWindows()\n"
   ]
  },
  {
   "cell_type": "code",
   "execution_count": 2,
   "id": "1f638694-d1e3-4672-87c4-4479b28ccf8c",
   "metadata": {},
   "outputs": [],
   "source": [
    "filtered_hand = list(range(21))\n",
    "\n",
    "HAND_NUM = len(filtered_hand)"
   ]
  },
  {
   "cell_type": "code",
   "execution_count": 3,
   "id": "3fd88840-8e83-4a4a-bb0b-a8c41be4c48f",
   "metadata": {},
   "outputs": [],
   "source": [
    "hands = mp.solutions.hands.Hands()\n",
    "pose = mp.solutions.pose.Pose()\n",
    "def get_hands_landmarks(frame):\n",
    "    results_hands = hands.process(frame)\n",
    "    hand_lm = np.zeros((HAND_NUM * 2, 3))\n",
    "    if results_hands.multi_hand_landmarks:\n",
    "        for i, hand_landmarks in enumerate(results_hands.multi_hand_landmarks):\n",
    "            if results_hands.multi_handedness[i].classification[0].index == 0: \n",
    "                hand_lm[:HAND_NUM, :] = np.array(\n",
    "                    [(lm.x, lm.y, lm.z) for lm in hand_landmarks.landmark]) # right\n",
    "            else:\n",
    "                hand_lm[HAND_NUM:HAND_NUM * 2, :] = np.array(\n",
    "                    [(lm.x, lm.y, lm.z) for lm in hand_landmarks.landmark]) # left\n",
    "    return hand_lm"
   ]
  },
  {
   "cell_type": "code",
   "execution_count": 4,
   "id": "c2eba0ef-f2f1-4134-b002-4c2985b5f71e",
   "metadata": {},
   "outputs": [],
   "source": [
    "def load_dataset(dataset_dir):\n",
    "    dataset = []\n",
    "    labels = []\n",
    "\n",
    "    gesture_names = os.listdir(dataset_dir)\n",
    "    for gesture_name in gesture_names:\n",
    "        gesture_dir = os.path.join(dataset_dir, gesture_name)\n",
    "\n",
    "        if os.path.isdir(gesture_dir):\n",
    "            for filename in os.listdir(gesture_dir):\n",
    "                image_path = os.path.join(gesture_dir, filename)\n",
    "                image = cv2.imread(image_path)\n",
    "\n",
    "                dataset.append(image)\n",
    "                labels.append(gesture_name)\n",
    "\n",
    "    return dataset, labels"
   ]
  },
  {
   "cell_type": "code",
   "execution_count": 5,
   "id": "13656850-957d-42bd-afe3-c9c28fb5a20b",
   "metadata": {},
   "outputs": [],
   "source": [
    "dataset_dir = 'dataset'\n",
    "\n",
    "dataset, labels = load_dataset(dataset_dir)"
   ]
  },
  {
   "cell_type": "code",
   "execution_count": 6,
   "id": "e4020548-4080-4e44-88f3-7b8157fabfdb",
   "metadata": {},
   "outputs": [
    {
     "data": {
      "text/plain": [
       "412"
      ]
     },
     "execution_count": 6,
     "metadata": {},
     "output_type": "execute_result"
    }
   ],
   "source": [
    "len(labels)"
   ]
  },
  {
   "cell_type": "code",
   "execution_count": 7,
   "id": "eedfb343-dda7-4c18-beac-4c4c58118b6a",
   "metadata": {},
   "outputs": [],
   "source": [
    "all_landmarks = []\n",
    "new_labels = []\n",
    "deleted = 0\n",
    "L = 0\n",
    "for img in dataset:\n",
    "    try:\n",
    "        lm = get_hands_landmarks(img)\n",
    "        all_landmarks.append(lm)\n",
    "        new_labels.append(labels[L])\n",
    "        L += 1\n",
    "    except Exception as e:\n",
    "        print(e)\n",
    "        L += 1\n",
    "        deleted += 1\n",
    "        continue\n",
    "    # all_landmarks.append(lm)\n",
    "landmarks = np.array(all_landmarks)\n",
    "labels = np.array(new_labels)"
   ]
  },
  {
   "cell_type": "code",
   "execution_count": 8,
   "id": "5bb32e6c-7b3e-4728-830f-36161dd4c1a4",
   "metadata": {},
   "outputs": [
    {
     "data": {
      "text/plain": [
       "(0, (412, 42, 3), 412)"
      ]
     },
     "execution_count": 8,
     "metadata": {},
     "output_type": "execute_result"
    }
   ],
   "source": [
    "deleted, landmarks.shape, len(new_labels)"
   ]
  },
  {
   "cell_type": "code",
   "execution_count": 9,
   "id": "93d34822-ff3d-4a57-be5f-7ec66188fc03",
   "metadata": {},
   "outputs": [],
   "source": [
    "landmarks = np.load('landmarks.npz')\n",
    "labels = np.load('labels.npz')\n",
    "landmarks = landmarks['arr']\n",
    "labels = labels['arr']"
   ]
  },
  {
   "cell_type": "code",
   "execution_count": 10,
   "id": "854c087d-73df-468d-84e1-5898abae8652",
   "metadata": {},
   "outputs": [],
   "source": [
    "from sklearn.model_selection import train_test_split\n",
    "from sklearn.preprocessing import LabelEncoder\n",
    "\n",
    "label_encoder = LabelEncoder()\n",
    "labels = label_encoder.fit_transform(labels)"
   ]
  },
  {
   "cell_type": "code",
   "execution_count": 11,
   "id": "cef234c3-e009-4b99-8249-6b2b021df3e8",
   "metadata": {},
   "outputs": [],
   "source": [
    "X_train, X_test, y_train, y_test = train_test_split(landmarks, labels, test_size=0.2, random_state=42)"
   ]
  },
  {
   "cell_type": "code",
   "execution_count": 12,
   "id": "8c87ff6a-6052-4ae4-aea3-a659153f81eb",
   "metadata": {},
   "outputs": [],
   "source": [
    "# Step 1: Load the base model\n",
    "base_model = tf.keras.models.load_model('base.keras')\n",
    "# Step 2: Make the base model untrainable\n",
    "base_model.trainable = False"
   ]
  },
  {
   "cell_type": "code",
   "execution_count": 13,
   "id": "5c04ac70-0c44-4542-b2cc-5d6ae3fc237a",
   "metadata": {},
   "outputs": [
    {
     "data": {
      "text/plain": [
       "((None, 64), (None, 42, 3))"
      ]
     },
     "execution_count": 13,
     "metadata": {},
     "output_type": "execute_result"
    }
   ],
   "source": [
    "base_model.output_shape,base_model.input_shape"
   ]
  },
  {
   "cell_type": "code",
   "execution_count": 14,
   "id": "816a4931-0a21-46d7-b726-2d95c21297b7",
   "metadata": {},
   "outputs": [
    {
     "data": {
      "text/plain": [
       "8"
      ]
     },
     "execution_count": 14,
     "metadata": {},
     "output_type": "execute_result"
    }
   ],
   "source": [
    "num_classes = len(pd.unique(labels))\n",
    "num_classes"
   ]
  },
  {
   "cell_type": "code",
   "execution_count": 15,
   "id": "608d148a-40a9-45cb-a806-cb9d34f7eb11",
   "metadata": {},
   "outputs": [],
   "source": [
    "# Step 3: Add new classification layers\n",
    "x = tf.keras.layers.Dense(64, activation='relu')(base_model.output)\n",
    "output_layer = tf.keras.layers.Dense(num_classes, activation='softmax')(x)"
   ]
  },
  {
   "cell_type": "code",
   "execution_count": 17,
   "id": "04b6d148",
   "metadata": {},
   "outputs": [],
   "source": [
    "# Step 3: Add new classification layers\n",
    "x = tf.keras.layers.Dense(64, activation='relu', name='new_dense_1')(base_model.output)\n",
    "output_layer = tf.keras.layers.Dense(num_classes, activation='softmax', name='new_output_layer')(x)\n",
    "\n",
    "# Step 4: Create the complete model\n",
    "model = tf.keras.Model(inputs=base_model.input, outputs=output_layer)\n"
   ]
  },
  {
   "cell_type": "code",
   "execution_count": 19,
   "id": "6c39fd1a-1caf-497d-a4d0-93a5e7db6a1d",
   "metadata": {},
   "outputs": [
    {
     "data": {
      "text/plain": [
       "((None, 42, 3), (None, 8))"
      ]
     },
     "execution_count": 19,
     "metadata": {},
     "output_type": "execute_result"
    }
   ],
   "source": [
    "model.input_shape,model.output_shape"
   ]
  },
  {
   "cell_type": "code",
   "execution_count": 20,
   "id": "db022d73-ae19-4fdf-a90e-0db10a25733d",
   "metadata": {},
   "outputs": [],
   "source": [
    "# Step 5: Compile the model\n",
    "model.compile(optimizer='adam',\n",
    "              loss='sparse_categorical_crossentropy',\n",
    "              metrics=['accuracy'])"
   ]
  },
  {
   "cell_type": "code",
   "execution_count": 22,
   "id": "56279f92",
   "metadata": {},
   "outputs": [],
   "source": [
    "from tensorflow.keras.callbacks import EarlyStopping"
   ]
  },
  {
   "cell_type": "code",
   "execution_count": 23,
   "id": "00bd11c6",
   "metadata": {},
   "outputs": [
    {
     "name": "stdout",
     "output_type": "stream",
     "text": [
      "Epoch 1/100\n",
      "10/10 [==============================] - 1s 6ms/step - loss: 3.6796 - accuracy: 0.2121\n",
      "Epoch 2/100\n",
      "10/10 [==============================] - 0s 4ms/step - loss: 1.7317 - accuracy: 0.3131\n",
      "Epoch 3/100\n",
      "10/10 [==============================] - 0s 4ms/step - loss: 1.3720 - accuracy: 0.4646\n",
      "Epoch 4/100\n",
      "10/10 [==============================] - 0s 4ms/step - loss: 1.1296 - accuracy: 0.6128\n",
      "Epoch 5/100\n",
      "10/10 [==============================] - 0s 4ms/step - loss: 0.9460 - accuracy: 0.7172\n",
      "Epoch 6/100\n",
      "10/10 [==============================] - 0s 4ms/step - loss: 0.8243 - accuracy: 0.7407\n",
      "Epoch 7/100\n",
      "10/10 [==============================] - 0s 4ms/step - loss: 0.7393 - accuracy: 0.8013\n",
      "Epoch 8/100\n",
      "10/10 [==============================] - 0s 4ms/step - loss: 0.6739 - accuracy: 0.8384\n",
      "Epoch 9/100\n",
      "10/10 [==============================] - 0s 4ms/step - loss: 0.6275 - accuracy: 0.8384\n",
      "Epoch 10/100\n",
      "10/10 [==============================] - 0s 4ms/step - loss: 0.5811 - accuracy: 0.8451\n",
      "Epoch 11/100\n",
      "10/10 [==============================] - 0s 3ms/step - loss: 0.5469 - accuracy: 0.8586\n",
      "Epoch 12/100\n",
      "10/10 [==============================] - 0s 3ms/step - loss: 0.5150 - accuracy: 0.8721\n",
      "Epoch 13/100\n",
      "10/10 [==============================] - 0s 4ms/step - loss: 0.4941 - accuracy: 0.8620\n",
      "Epoch 14/100\n",
      "10/10 [==============================] - 0s 4ms/step - loss: 0.4726 - accuracy: 0.8620\n",
      "Epoch 15/100\n",
      "10/10 [==============================] - 0s 3ms/step - loss: 0.4501 - accuracy: 0.8721\n",
      "Epoch 16/100\n",
      "10/10 [==============================] - 0s 4ms/step - loss: 0.4346 - accuracy: 0.8889\n",
      "Epoch 17/100\n",
      "10/10 [==============================] - 0s 4ms/step - loss: 0.4173 - accuracy: 0.8822\n",
      "Epoch 18/100\n",
      "10/10 [==============================] - 0s 3ms/step - loss: 0.4066 - accuracy: 0.8822\n",
      "Epoch 19/100\n",
      "10/10 [==============================] - 0s 4ms/step - loss: 0.3923 - accuracy: 0.8788\n",
      "Epoch 20/100\n",
      "10/10 [==============================] - 0s 4ms/step - loss: 0.3809 - accuracy: 0.8855\n",
      "Epoch 21/100\n",
      "10/10 [==============================] - 0s 2ms/step - loss: 0.3713 - accuracy: 0.8889\n",
      "Epoch 22/100\n",
      "10/10 [==============================] - 0s 4ms/step - loss: 0.3631 - accuracy: 0.8990\n",
      "Epoch 23/100\n",
      "10/10 [==============================] - 0s 2ms/step - loss: 0.3531 - accuracy: 0.9024\n",
      "Epoch 24/100\n",
      "10/10 [==============================] - 0s 4ms/step - loss: 0.3501 - accuracy: 0.8956\n",
      "Epoch 25/100\n",
      "10/10 [==============================] - 0s 4ms/step - loss: 0.3353 - accuracy: 0.9091\n",
      "Epoch 26/100\n",
      "10/10 [==============================] - 0s 3ms/step - loss: 0.3300 - accuracy: 0.8990\n",
      "Epoch 27/100\n",
      "10/10 [==============================] - 0s 4ms/step - loss: 0.3223 - accuracy: 0.9091\n",
      "Epoch 28/100\n",
      "10/10 [==============================] - 0s 3ms/step - loss: 0.3171 - accuracy: 0.9057\n",
      "Epoch 29/100\n",
      "10/10 [==============================] - 0s 4ms/step - loss: 0.3117 - accuracy: 0.9125\n",
      "Epoch 30/100\n",
      "10/10 [==============================] - 0s 3ms/step - loss: 0.3101 - accuracy: 0.9091\n",
      "Epoch 31/100\n",
      "10/10 [==============================] - 0s 4ms/step - loss: 0.2972 - accuracy: 0.9125\n",
      "Epoch 32/100\n",
      "10/10 [==============================] - 0s 3ms/step - loss: 0.2965 - accuracy: 0.9293\n",
      "Epoch 33/100\n",
      "10/10 [==============================] - 0s 3ms/step - loss: 0.2931 - accuracy: 0.9057\n",
      "Epoch 34/100\n",
      "10/10 [==============================] - 0s 3ms/step - loss: 0.2872 - accuracy: 0.9125\n",
      "Epoch 35/100\n",
      "10/10 [==============================] - 0s 3ms/step - loss: 0.2828 - accuracy: 0.9293\n",
      "Epoch 36/100\n",
      "10/10 [==============================] - 0s 2ms/step - loss: 0.2837 - accuracy: 0.9158\n",
      "Epoch 37/100\n",
      "10/10 [==============================] - 0s 2ms/step - loss: 0.2694 - accuracy: 0.9226\n",
      "Epoch 38/100\n",
      "10/10 [==============================] - 0s 3ms/step - loss: 0.2689 - accuracy: 0.9259\n",
      "Epoch 39/100\n",
      "10/10 [==============================] - 0s 3ms/step - loss: 0.2687 - accuracy: 0.9259\n",
      "Epoch 40/100\n",
      "10/10 [==============================] - 0s 3ms/step - loss: 0.2672 - accuracy: 0.9259\n",
      "Epoch 41/100\n",
      "10/10 [==============================] - 0s 3ms/step - loss: 0.2633 - accuracy: 0.9125\n",
      "Epoch 42/100\n",
      "10/10 [==============================] - 0s 2ms/step - loss: 0.2595 - accuracy: 0.9259\n",
      "Epoch 43/100\n",
      "10/10 [==============================] - 0s 3ms/step - loss: 0.2568 - accuracy: 0.9192\n",
      "Epoch 44/100\n",
      "10/10 [==============================] - 0s 4ms/step - loss: 0.2604 - accuracy: 0.9293\n",
      "Epoch 45/100\n",
      "10/10 [==============================] - 0s 4ms/step - loss: 0.2471 - accuracy: 0.9293\n",
      "Epoch 46/100\n",
      "10/10 [==============================] - 0s 3ms/step - loss: 0.2482 - accuracy: 0.9192\n",
      "Epoch 47/100\n",
      "10/10 [==============================] - 0s 4ms/step - loss: 0.2412 - accuracy: 0.9259\n",
      "Epoch 48/100\n",
      "10/10 [==============================] - 0s 3ms/step - loss: 0.2388 - accuracy: 0.9226\n",
      "Epoch 49/100\n",
      "10/10 [==============================] - 0s 4ms/step - loss: 0.2364 - accuracy: 0.9293\n",
      "Epoch 50/100\n",
      "10/10 [==============================] - 0s 3ms/step - loss: 0.2347 - accuracy: 0.9327\n",
      "Epoch 51/100\n",
      "10/10 [==============================] - 0s 3ms/step - loss: 0.2317 - accuracy: 0.9293\n",
      "Epoch 52/100\n",
      "10/10 [==============================] - 0s 3ms/step - loss: 0.2298 - accuracy: 0.9327\n",
      "Epoch 53/100\n",
      "10/10 [==============================] - 0s 5ms/step - loss: 0.2264 - accuracy: 0.9293\n",
      "Epoch 54/100\n",
      "10/10 [==============================] - 0s 3ms/step - loss: 0.2314 - accuracy: 0.9293\n",
      "Epoch 55/100\n",
      "10/10 [==============================] - 0s 3ms/step - loss: 0.2423 - accuracy: 0.9360\n",
      "Epoch 56/100\n",
      "10/10 [==============================] - 0s 3ms/step - loss: 0.2410 - accuracy: 0.9293\n",
      "Epoch 57/100\n",
      "10/10 [==============================] - 0s 3ms/step - loss: 0.2341 - accuracy: 0.9394\n",
      "Epoch 58/100\n",
      "10/10 [==============================] - 0s 2ms/step - loss: 0.2205 - accuracy: 0.9226\n",
      "Epoch 59/100\n",
      "10/10 [==============================] - 0s 3ms/step - loss: 0.2195 - accuracy: 0.9327\n",
      "Epoch 60/100\n",
      "10/10 [==============================] - 0s 3ms/step - loss: 0.2150 - accuracy: 0.9360\n",
      "Epoch 61/100\n",
      "10/10 [==============================] - 0s 4ms/step - loss: 0.2104 - accuracy: 0.9360\n",
      "Epoch 62/100\n",
      "10/10 [==============================] - 0s 3ms/step - loss: 0.2172 - accuracy: 0.9192\n",
      "Epoch 63/100\n",
      "10/10 [==============================] - 0s 3ms/step - loss: 0.2133 - accuracy: 0.9360\n",
      "Epoch 64/100\n",
      "10/10 [==============================] - 0s 4ms/step - loss: 0.2117 - accuracy: 0.9293\n",
      "Epoch 65/100\n",
      "10/10 [==============================] - 0s 3ms/step - loss: 0.2085 - accuracy: 0.9327\n",
      "Epoch 66/100\n",
      "10/10 [==============================] - 0s 2ms/step - loss: 0.2061 - accuracy: 0.9327\n",
      "Epoch 67/100\n",
      "10/10 [==============================] - 0s 3ms/step - loss: 0.2105 - accuracy: 0.9327\n",
      "Epoch 68/100\n",
      "10/10 [==============================] - 0s 3ms/step - loss: 0.2144 - accuracy: 0.9293\n",
      "Epoch 69/100\n",
      "10/10 [==============================] - 0s 2ms/step - loss: 0.1980 - accuracy: 0.9394\n",
      "Epoch 70/100\n",
      "10/10 [==============================] - 0s 3ms/step - loss: 0.2054 - accuracy: 0.9394\n",
      "Epoch 71/100\n",
      "10/10 [==============================] - 0s 3ms/step - loss: 0.2007 - accuracy: 0.9360\n",
      "Epoch 72/100\n",
      "10/10 [==============================] - 0s 3ms/step - loss: 0.2027 - accuracy: 0.9360\n",
      "Epoch 73/100\n",
      "10/10 [==============================] - 0s 3ms/step - loss: 0.1976 - accuracy: 0.9327\n",
      "Epoch 74/100\n",
      "10/10 [==============================] - 0s 4ms/step - loss: 0.1947 - accuracy: 0.9394\n",
      "Epoch 75/100\n",
      "10/10 [==============================] - 0s 2ms/step - loss: 0.2021 - accuracy: 0.9394\n",
      "Epoch 76/100\n",
      "10/10 [==============================] - 0s 3ms/step - loss: 0.1916 - accuracy: 0.9394\n",
      "Epoch 77/100\n",
      "10/10 [==============================] - 0s 3ms/step - loss: 0.1940 - accuracy: 0.9394\n",
      "Epoch 78/100\n",
      "10/10 [==============================] - 0s 3ms/step - loss: 0.1900 - accuracy: 0.9461\n",
      "Epoch 79/100\n",
      "10/10 [==============================] - 0s 3ms/step - loss: 0.1915 - accuracy: 0.9360\n",
      "Epoch 80/100\n",
      "10/10 [==============================] - 0s 3ms/step - loss: 0.1923 - accuracy: 0.9428\n",
      "Epoch 81/100\n",
      "10/10 [==============================] - 0s 3ms/step - loss: 0.1910 - accuracy: 0.9461\n",
      "Epoch 82/100\n",
      "10/10 [==============================] - 0s 4ms/step - loss: 0.1922 - accuracy: 0.9394\n",
      "Epoch 83/100\n",
      "10/10 [==============================] - 0s 7ms/step - loss: 0.1892 - accuracy: 0.9360\n",
      "Epoch 84/100\n",
      "10/10 [==============================] - 0s 4ms/step - loss: 0.1878 - accuracy: 0.9428\n",
      "Epoch 85/100\n",
      "10/10 [==============================] - 0s 1ms/step - loss: 0.1863 - accuracy: 0.9428\n",
      "Epoch 86/100\n",
      "10/10 [==============================] - 0s 3ms/step - loss: 0.1819 - accuracy: 0.9428\n",
      "Epoch 87/100\n",
      "10/10 [==============================] - 0s 3ms/step - loss: 0.1810 - accuracy: 0.9428\n",
      "Epoch 88/100\n",
      "10/10 [==============================] - 0s 3ms/step - loss: 0.1852 - accuracy: 0.9394\n",
      "Epoch 89/100\n",
      "10/10 [==============================] - 0s 3ms/step - loss: 0.1835 - accuracy: 0.9394\n",
      "Epoch 90/100\n",
      "10/10 [==============================] - 0s 3ms/step - loss: 0.1795 - accuracy: 0.9428\n",
      "Epoch 91/100\n",
      "10/10 [==============================] - 0s 4ms/step - loss: 0.1799 - accuracy: 0.9428\n",
      "Epoch 92/100\n",
      "10/10 [==============================] - 0s 3ms/step - loss: 0.1813 - accuracy: 0.9394\n",
      "Epoch 93/100\n",
      "10/10 [==============================] - 0s 4ms/step - loss: 0.1746 - accuracy: 0.9394\n",
      "Epoch 94/100\n",
      "10/10 [==============================] - 0s 4ms/step - loss: 0.1791 - accuracy: 0.9428\n",
      "Epoch 95/100\n",
      "10/10 [==============================] - 0s 3ms/step - loss: 0.1754 - accuracy: 0.9394\n",
      "Epoch 96/100\n",
      "10/10 [==============================] - 0s 3ms/step - loss: 0.1866 - accuracy: 0.9394\n",
      "Epoch 97/100\n",
      "10/10 [==============================] - 0s 3ms/step - loss: 0.1778 - accuracy: 0.9428\n",
      "Epoch 98/100\n",
      "10/10 [==============================] - 0s 3ms/step - loss: 0.1698 - accuracy: 0.9394\n",
      "Epoch 99/100\n",
      "10/10 [==============================] - 0s 4ms/step - loss: 0.1704 - accuracy: 0.9428\n",
      "Epoch 100/100\n",
      "10/10 [==============================] - 0s 3ms/step - loss: 0.1691 - accuracy: 0.9428\n"
     ]
    }
   ],
   "source": [
    "early_stopping = EarlyStopping(monitor='val_loss', patience=5, restore_best_weights=True)\n",
    "\n",
    "# Train the model\n",
    "history = model.fit(X_train_reshaped, y_train, epochs=100, batch_size=32, callbacks=[early_stopping])"
   ]
  },
  {
   "cell_type": "code",
   "execution_count": 21,
   "id": "e6bd1294",
   "metadata": {},
   "outputs": [
    {
     "name": "stdout",
     "output_type": "stream",
     "text": [
      "Shape of X_train_reshaped: (297, 42, 3)\n",
      "Shape of X_test_reshaped: (75, 42, 3)\n"
     ]
    }
   ],
   "source": [
    "import numpy as np\n",
    "\n",
    "# Reshape the input data\n",
    "X_train_reshaped = np.reshape(X_train, (X_train.shape[0], 42, 3))\n",
    "X_test_reshaped = np.reshape(X_test, (X_test.shape[0], 42, 3))\n",
    "\n",
    "# Verify the shapes\n",
    "print(\"Shape of X_train_reshaped:\", X_train_reshaped.shape)\n",
    "print(\"Shape of X_test_reshaped:\", X_test_reshaped.shape)\n"
   ]
  },
  {
   "cell_type": "code",
   "execution_count": 28,
   "id": "33d70b9f-dc24-4ce9-87f1-0a741e2bce39",
   "metadata": {},
   "outputs": [
    {
     "data": {
      "image/png": "[encoded data removed]",
      "text/plain": [
       "<Figure size 640x480 with 1 Axes>"
      ]
     },
     "metadata": {},
     "output_type": "display_data"
    },
    {
     "data": {
      "image/png": "[encoded data removed]",
      "text/plain": [
       "<Figure size 640x480 with 1 Axes>"
      ]
     },
     "metadata": {},
     "output_type": "display_data"
    }
   ],
   "source": [
    "import matplotlib.pyplot as plt\n",
    "\n",
    "# Plot training loss\n",
    "plt.plot(history.history['loss'], label='Training Loss')\n",
    "plt.xlabel('Epoch')\n",
    "plt.ylabel('Loss')\n",
    "plt.title('Training Loss')\n",
    "plt.legend()\n",
    "plt.show()\n",
    "\n",
    "# Plot training accuracy\n",
    "plt.plot(history.history['accuracy'], label='Training Accuracy')\n",
    "plt.xlabel('Epoch')\n",
    "plt.ylabel('Accuracy')\n",
    "plt.title('Training Accuracy')\n",
    "plt.legend()\n",
    "plt.show()\n"
   ]
  },
  {
   "cell_type": "code",
   "execution_count": 31,
   "id": "d1b4ed4c-59e2-4a93-b919-7c1fcbb6adfb",
   "metadata": {},
   "outputs": [
    {
     "name": "stdout",
     "output_type": "stream",
     "text": [
      "3/3 [==============================] - 0s 8ms/step - loss: 0.4492 - accuracy: 0.8667\n"
     ]
    },
    {
     "data": {
      "text/plain": [
       "[0.4492451846599579, 0.8666666746139526]"
      ]
     },
     "execution_count": 31,
     "metadata": {},
     "output_type": "execute_result"
    }
   ],
   "source": [
    "model.evaluate(X_test_reshaped,y_test)"
   ]
  },
  {
   "cell_type": "code",
   "execution_count": null,
   "id": "daeb63ac-d667-40df-94f6-60c7d0632117",
   "metadata": {},
   "outputs": [],
   "source": []
  }
 ],
 "metadata": {
  "kernelspec": {
   "display_name": "Python 3 (ipykernel)",
   "language": "python",
   "name": "python3"
  },
  "language_info": {
   "codemirror_mode": {
    "name": "ipython",
    "version": 3
   },
   "file_extension": ".py",
   "mimetype": "text/x-python",
   "name": "python",
   "nbconvert_exporter": "python",
   "pygments_lexer": "ipython3",
   "version": "3.11.4"
  }
 },
 "nbformat": 4,
 "nbformat_minor": 5
}
