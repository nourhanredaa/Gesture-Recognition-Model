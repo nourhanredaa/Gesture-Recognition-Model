{
 "cells": [
  {
   "cell_type": "code",
   "execution_count": 2,
   "id": "a61cbca6-9e87-4f66-a0d7-f80b77bd3c2b",
   "metadata": {},
   "outputs": [],
   "source": [
    "import cv2\n",
    "import os\n",
    "import mediapipe as mp\n",
    "import numpy as np\n",
    "import tensorflow as tf\n",
    "from tensorflow.keras import layers, models\n",
    "from sklearn.preprocessing import LabelEncoder"
   ]
  },
  {
   "cell_type": "code",
   "execution_count": 11,
   "id": "7766cbc7-b65f-4950-a1e4-9d79d931bca9",
   "metadata": {},
   "outputs": [],
   "source": [
    "tf.keras.backend.clear_session()"
   ]
  },
  {
   "cell_type": "code",
   "execution_count": 3,
   "id": "2ed9e68d-8fdf-48f5-8cab-9ea4a3db4039",
   "metadata": {},
   "outputs": [],
   "source": [
    "landmarks = np.load('landmarks.npz')\n",
    "labels = np.load('labels.npz')\n",
    "landmarks = landmarks['arr']\n",
    "labels = labels['arr']"
   ]
  },
  {
   "cell_type": "code",
   "execution_count": 4,
   "id": "0251447b-2799-4717-8732-6e472214c16b",
   "metadata": {},
   "outputs": [],
   "source": [
    "landmarks = landmarks.reshape(372, 42, 3)"
   ]
  },
  {
   "cell_type": "code",
   "execution_count": 5,
   "id": "13d04f9b-3589-43b2-a177-386f8f6a529e",
   "metadata": {},
   "outputs": [
    {
     "data": {
      "text/plain": [
       "((372, 42, 3), (372,))"
      ]
     },
     "execution_count": 5,
     "metadata": {},
     "output_type": "execute_result"
    }
   ],
   "source": [
    "landmarks.shape,labels.shape"
   ]
  },
  {
   "cell_type": "code",
   "execution_count": 7,
   "id": "c3fbd748-2971-4bd9-bfd6-f2cec0611269",
   "metadata": {},
   "outputs": [],
   "source": [
    "from sklearn.model_selection import train_test_split\n",
    "label_encoder = LabelEncoder()\n",
    "labels = label_encoder.fit_transform(labels)\n",
    "X_train, X_test, y_train, y_test = train_test_split(landmarks, labels, test_size=0.2, random_state=42)"
   ]
  },
  {
   "cell_type": "code",
   "execution_count": 8,
   "id": "d3af143a-694a-41d1-976c-6740c4736de1",
   "metadata": {},
   "outputs": [],
   "source": [
    "decoded_labels = label_encoder.inverse_transform(labels)"
   ]
  },
  {
   "cell_type": "code",
   "execution_count": 9,
   "id": "3083e37f-d46c-432e-9d57-eb17043c5415",
   "metadata": {},
   "outputs": [
    {
     "data": {
      "text/plain": [
       "(7, 7)"
      ]
     },
     "execution_count": 9,
     "metadata": {},
     "output_type": "execute_result"
    }
   ],
   "source": [
    "labels[370],decoded_labels[370]"
   ]
  },
  {
   "cell_type": "code",
   "execution_count": 10,
   "id": "fb2fb6b8-616d-42f3-999a-b1496d640204",
   "metadata": {},
   "outputs": [
    {
     "name": "stdout",
     "output_type": "stream",
     "text": [
      "Model: \"sequential_2\"\n",
      "_________________________________________________________________\n",
      " Layer (type)                Output Shape              Param #   \n",
      "=================================================================\n",
      " sequential_1 (Sequential)   (None, 64)                59904     \n",
      "                                                                 \n",
      " dense_2 (Dense)             (None, 8)                 520       \n",
      "                                                                 \n",
      "=================================================================\n",
      "Total params: 60424 (236.03 KB)\n",
      "Trainable params: 60424 (236.03 KB)\n",
      "Non-trainable params: 0 (0.00 Byte)\n",
      "_________________________________________________________________\n"
     ]
    }
   ],
   "source": [
    "import tensorflow as tf\n",
    "\n",
    "# Define the CNN model\n",
    "def create_base_cnn_model(input_shape):\n",
    "    model = tf.keras.Sequential([\n",
    "        tf.keras.layers.Conv1D(32, 3, padding='same', activation='relu', input_shape=input_shape),\n",
    "        tf.keras.layers.MaxPooling1D(2),\n",
    "        tf.keras.layers.Conv1D(64, 3, padding='same', activation='relu'),\n",
    "        tf.keras.layers.MaxPooling1D(2),\n",
    "        tf.keras.layers.Conv1D(64, 3, padding='same', activation='relu'),\n",
    "        tf.keras.layers.Flatten(),\n",
    "        tf.keras.layers.Dense(64, activation='relu')\n",
    "    ])\n",
    "    return model\n",
    "\n",
    "# Define input shape and number of classes\n",
    "input_shape = (42, 3)  # Example input shape for 1D data with 100 timesteps and 1 feature\n",
    "num_classes = 8  # Example number of classes\n",
    "\n",
    "# Create the model\n",
    "base_model = create_base_cnn_model(input_shape)\n",
    "output_layer = tf.keras.layers.Dense(num_classes, activation='softmax')\n",
    "\n",
    "model = tf.keras.Sequential([base_model, output_layer])\n",
    "\n",
    "# Compile the model\n",
    "model.compile(optimizer='adam',\n",
    "              loss='sparse_categorical_crossentropy',\n",
    "              metrics=['accuracy'])\n",
    "\n",
    "# Print model summary\n",
    "model.summary()\n"
   ]
  },
  {
   "cell_type": "code",
   "execution_count": 11,
   "id": "f8dff195-5f50-45f4-b311-93a912f00812",
   "metadata": {},
   "outputs": [
    {
     "name": "stdout",
     "output_type": "stream",
     "text": [
      "Epoch 1/50\n",
      "WARNING:tensorflow:From C:\\Users\\hadyh\\AppData\\Local\\Programs\\Python\\Python311\\Lib\\site-packages\\keras\\src\\utils\\tf_utils.py:492: The name tf.ragged.RaggedTensorValue is deprecated. Please use tf.compat.v1.ragged.RaggedTensorValue instead.\n",
      "\n",
      "WARNING:tensorflow:From C:\\Users\\hadyh\\AppData\\Local\\Programs\\Python\\Python311\\Lib\\site-packages\\keras\\src\\engine\\base_layer_utils.py:384: The name tf.executing_eagerly_outside_functions is deprecated. Please use tf.compat.v1.executing_eagerly_outside_functions instead.\n",
      "\n",
      "10/10 [==============================] - 3s 7ms/step - loss: 2.0805 - accuracy: 0.1616\n",
      "Epoch 2/50\n",
      "10/10 [==============================] - 0s 6ms/step - loss: 2.0583 - accuracy: 0.1852\n",
      "Epoch 3/50\n",
      "10/10 [==============================] - 0s 6ms/step - loss: 2.0497 - accuracy: 0.2189\n",
      "Epoch 4/50\n",
      "10/10 [==============================] - 0s 5ms/step - loss: 2.0382 - accuracy: 0.2290\n",
      "Epoch 5/50\n",
      "10/10 [==============================] - 0s 5ms/step - loss: 2.0069 - accuracy: 0.2525\n",
      "Epoch 6/50\n",
      "10/10 [==============================] - 0s 6ms/step - loss: 1.9663 - accuracy: 0.2727\n",
      "Epoch 7/50\n",
      "10/10 [==============================] - 0s 5ms/step - loss: 1.9318 - accuracy: 0.2727\n",
      "Epoch 8/50\n",
      "10/10 [==============================] - 0s 6ms/step - loss: 1.8665 - accuracy: 0.3367\n",
      "Epoch 9/50\n",
      "10/10 [==============================] - 0s 5ms/step - loss: 1.7994 - accuracy: 0.3333\n",
      "Epoch 10/50\n",
      "10/10 [==============================] - 0s 6ms/step - loss: 1.7294 - accuracy: 0.3838\n",
      "Epoch 11/50\n",
      "10/10 [==============================] - 0s 5ms/step - loss: 1.6221 - accuracy: 0.4242\n",
      "Epoch 12/50\n",
      "10/10 [==============================] - 0s 5ms/step - loss: 1.5722 - accuracy: 0.4680\n",
      "Epoch 13/50\n",
      "10/10 [==============================] - 0s 5ms/step - loss: 1.4981 - accuracy: 0.4848\n",
      "Epoch 14/50\n",
      "10/10 [==============================] - 0s 5ms/step - loss: 1.4371 - accuracy: 0.4949\n",
      "Epoch 15/50\n",
      "10/10 [==============================] - 0s 5ms/step - loss: 1.3630 - accuracy: 0.5286\n",
      "Epoch 16/50\n",
      "10/10 [==============================] - 0s 5ms/step - loss: 1.3388 - accuracy: 0.4916\n",
      "Epoch 17/50\n",
      "10/10 [==============================] - 0s 5ms/step - loss: 1.3041 - accuracy: 0.5522\n",
      "Epoch 18/50\n",
      "10/10 [==============================] - 0s 5ms/step - loss: 1.2120 - accuracy: 0.5791\n",
      "Epoch 19/50\n",
      "10/10 [==============================] - 0s 5ms/step - loss: 1.1709 - accuracy: 0.6195\n",
      "Epoch 20/50\n",
      "10/10 [==============================] - 0s 5ms/step - loss: 1.1187 - accuracy: 0.6364\n",
      "Epoch 21/50\n",
      "10/10 [==============================] - 0s 6ms/step - loss: 1.0888 - accuracy: 0.6667\n",
      "Epoch 22/50\n",
      "10/10 [==============================] - 0s 6ms/step - loss: 1.0779 - accuracy: 0.6263\n",
      "Epoch 23/50\n",
      "10/10 [==============================] - 0s 6ms/step - loss: 0.9984 - accuracy: 0.7205\n",
      "Epoch 24/50\n",
      "10/10 [==============================] - 0s 5ms/step - loss: 0.9137 - accuracy: 0.7104\n",
      "Epoch 25/50\n",
      "10/10 [==============================] - 0s 6ms/step - loss: 0.8572 - accuracy: 0.7475\n",
      "Epoch 26/50\n",
      "10/10 [==============================] - 0s 5ms/step - loss: 0.8235 - accuracy: 0.7475\n",
      "Epoch 27/50\n",
      "10/10 [==============================] - 0s 5ms/step - loss: 0.7918 - accuracy: 0.7609\n",
      "Epoch 28/50\n",
      "10/10 [==============================] - 0s 6ms/step - loss: 0.7814 - accuracy: 0.7778\n",
      "Epoch 29/50\n",
      "10/10 [==============================] - 0s 5ms/step - loss: 0.6805 - accuracy: 0.8013\n",
      "Epoch 30/50\n",
      "10/10 [==============================] - 0s 5ms/step - loss: 0.6537 - accuracy: 0.8013\n",
      "Epoch 31/50\n",
      "10/10 [==============================] - 0s 5ms/step - loss: 0.6166 - accuracy: 0.8215\n",
      "Epoch 32/50\n",
      "10/10 [==============================] - 0s 9ms/step - loss: 0.5644 - accuracy: 0.8350\n",
      "Epoch 33/50\n",
      "10/10 [==============================] - 0s 5ms/step - loss: 0.5540 - accuracy: 0.8350\n",
      "Epoch 34/50\n",
      "10/10 [==============================] - 0s 5ms/step - loss: 0.5246 - accuracy: 0.8485\n",
      "Epoch 35/50\n",
      "10/10 [==============================] - 0s 5ms/step - loss: 0.5365 - accuracy: 0.8350\n",
      "Epoch 36/50\n",
      "10/10 [==============================] - 0s 5ms/step - loss: 0.4728 - accuracy: 0.8350\n",
      "Epoch 37/50\n",
      "10/10 [==============================] - 0s 6ms/step - loss: 0.4343 - accuracy: 0.8754\n",
      "Epoch 38/50\n",
      "10/10 [==============================] - 0s 5ms/step - loss: 0.4107 - accuracy: 0.8788\n",
      "Epoch 39/50\n",
      "10/10 [==============================] - 0s 5ms/step - loss: 0.4140 - accuracy: 0.8586\n",
      "Epoch 40/50\n",
      "10/10 [==============================] - 0s 7ms/step - loss: 0.3916 - accuracy: 0.8754\n",
      "Epoch 41/50\n",
      "10/10 [==============================] - 0s 5ms/step - loss: 0.4145 - accuracy: 0.8889\n",
      "Epoch 42/50\n",
      "10/10 [==============================] - 0s 6ms/step - loss: 0.3808 - accuracy: 0.8855\n",
      "Epoch 43/50\n",
      "10/10 [==============================] - 0s 6ms/step - loss: 0.4197 - accuracy: 0.8552\n",
      "Epoch 44/50\n",
      "10/10 [==============================] - 0s 5ms/step - loss: 0.3840 - accuracy: 0.8721\n",
      "Epoch 45/50\n",
      "10/10 [==============================] - 0s 6ms/step - loss: 0.3817 - accuracy: 0.8620\n",
      "Epoch 46/50\n",
      "10/10 [==============================] - 0s 6ms/step - loss: 0.3568 - accuracy: 0.8923\n",
      "Epoch 47/50\n",
      "10/10 [==============================] - 0s 5ms/step - loss: 0.3241 - accuracy: 0.8956\n",
      "Epoch 48/50\n",
      "10/10 [==============================] - 0s 5ms/step - loss: 0.3097 - accuracy: 0.8956\n",
      "Epoch 49/50\n",
      "10/10 [==============================] - 0s 10ms/step - loss: 0.2929 - accuracy: 0.9091\n",
      "Epoch 50/50\n",
      "10/10 [==============================] - 0s 5ms/step - loss: 0.2801 - accuracy: 0.9192\n"
     ]
    },
    {
     "data": {
      "text/plain": [
       "<keras.src.callbacks.History at 0x22bda390390>"
      ]
     },
     "execution_count": 11,
     "metadata": {},
     "output_type": "execute_result"
    }
   ],
   "source": [
    "model.fit(X_train, y_train, epochs=50, batch_size=32)"
   ]
  },
  {
   "cell_type": "code",
   "execution_count": 12,
   "id": "e4eb4ce3-5a5f-47da-85b7-b23e78265c77",
   "metadata": {},
   "outputs": [
    {
     "name": "stdout",
     "output_type": "stream",
     "text": [
      "3/3 [==============================] - 0s 5ms/step - loss: 0.5011 - accuracy: 0.8133\n"
     ]
    },
    {
     "data": {
      "text/plain": [
       "[0.5010682940483093, 0.8133333325386047]"
      ]
     },
     "execution_count": 12,
     "metadata": {},
     "output_type": "execute_result"
    }
   ],
   "source": [
    "model.evaluate(X_test,y_test)"
   ]
  },
  {
   "cell_type": "code",
   "execution_count": 13,
   "id": "1e4608e5-dd8f-416c-920d-51744eb51fb4",
   "metadata": {},
   "outputs": [],
   "source": [
    "base_model.save('base.keras')"
   ]
  },
  {
   "cell_type": "code",
   "execution_count": null,
   "id": "2bea7dd9-16b3-47ab-878c-7a94ed897d77",
   "metadata": {},
   "outputs": [],
   "source": []
  }
 ],
 "metadata": {
  "kernelspec": {
   "display_name": "Python 3 (ipykernel)",
   "language": "python",
   "name": "python3"
  },
  "language_info": {
   "codemirror_mode": {
    "name": "ipython",
    "version": 3
   },
   "file_extension": ".py",
   "mimetype": "text/x-python",
   "name": "python",
   "nbconvert_exporter": "python",
   "pygments_lexer": "ipython3",
   "version": "3.11.5"
  }
 },
 "nbformat": 4,
 "nbformat_minor": 5
}
