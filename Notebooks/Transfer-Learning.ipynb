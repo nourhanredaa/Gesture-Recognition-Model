{
 "cells": [
  {
   "cell_type": "markdown",
   "id": "77e03aab",
   "metadata": {},
   "source": [
    "# Transfer Learning"
   ]
  },
  {
   "cell_type": "code",
   "execution_count": 1,
   "id": "bcf38756",
   "metadata": {},
   "outputs": [
    {
     "name": "stdout",
     "output_type": "stream",
     "text": [
      "WARNING:tensorflow:From c:\\Users\\abdok\\AppData\\Local\\Programs\\Python\\Python311\\Lib\\site-packages\\keras\\src\\losses.py:2976: The name tf.losses.sparse_softmax_cross_entropy is deprecated. Please use tf.compat.v1.losses.sparse_softmax_cross_entropy instead.\n",
      "\n"
     ]
    }
   ],
   "source": [
    "import os\n",
    "import cv2\n",
    "import json\n",
    "import numpy as np\n",
    "import mediapipe as mp\n",
    "import tensorflow as tf\n",
    "\n",
    "tf.get_logger().setLevel('ERROR')"
   ]
  },
  {
   "cell_type": "code",
   "execution_count": null,
   "id": "53e2a4a7",
   "metadata": {},
   "outputs": [],
   "source": [
    "hands = mp.solutions.hands.Hands()\n",
    "                \n",
    "def get_hands_landmarks(frame):\n",
    "    results = hands.process(frame)\n",
    "    landmarks = np.zeros((42, 3))\n",
    "    if results.multi_hand_landmarks:\n",
    "        for i, hand_landmarks in enumerate(results.multi_hand_landmarks):\n",
    "            if results.multi_handedness[i].classification[0].index == 0: \n",
    "                landmarks[:21, :] = np.array(\n",
    "                    [(lm.x, lm.y, lm.z) for lm in hand_landmarks.landmark]) # right\n",
    "            else:\n",
    "                landmarks[21:, :] = np.array(\n",
    "                    [(lm.x, lm.y, lm.z) for lm in hand_landmarks.landmark]) # left\n",
    "    return landmarks"
   ]
  },
  {
   "cell_type": "code",
   "execution_count": null,
   "id": "8d0c8ef7",
   "metadata": {},
   "outputs": [
    {
     "name": "stdout",
     "output_type": "stream",
     "text": [
      "Press c to capture image and q to quit\n",
      "Image captured: ../Dataset/test/0.jpg\n",
      "Image captured: ../Dataset/test/1.jpg\n",
      "Image captured: ../Dataset/test/2.jpg\n",
      "Image captured: ../Dataset/test/3.jpg\n",
      "Image captured: ../Dataset/test/4.jpg\n",
      "Image captured: ../Dataset/test/5.jpg\n",
      "Image captured: ../Dataset/test/6.jpg\n",
      "Image captured: ../Dataset/test/7.jpg\n",
      "Image captured: ../Dataset/test/8.jpg\n",
      "Image captured: ../Dataset/test/9.jpg\n",
      "Image captured: ../Dataset/test/10.jpg\n",
      "Image captured: ../Dataset/test/11.jpg\n",
      "Image captured: ../Dataset/test/12.jpg\n",
      "Image captured: ../Dataset/test/13.jpg\n",
      "Image captured: ../Dataset/test/14.jpg\n",
      "Image captured: ../Dataset/test/15.jpg\n",
      "Image captured: ../Dataset/test/16.jpg\n"
     ]
    }
   ],
   "source": [
    "def collect_images(dataset_path):\n",
    "    cap = cv2.VideoCapture(0)\n",
    "    print(\"Press c to capture image and q to quit\")\n",
    "    label = input(\"Enter label name: \")\n",
    "    os.makedirs(f'{dataset_path}/{label}', exist_ok=True)\n",
    "    while True:\n",
    "        ret, frame = cap.read()\n",
    "        cv2.imshow('Adding Gesture', frame)\n",
    "        key = cv2.waitKey(1) & 0xFF\n",
    "        if key == ord('c'):\n",
    "            filename = f'{dataset_path}/{label}/{len(os.listdir(f\"{dataset_path}/{label}\"))}.jpg'\n",
    "            cv2.imwrite(filename, frame)\n",
    "            print(f\"Image captured: {filename}\")\n",
    "        elif key == ord('q'):\n",
    "            break\n",
    "    cap.release()\n",
    "    cv2.destroyAllWindows()\n",
    "    return label\n",
    "    \n",
    "new_label = collect_images('dataset')"
   ]
  },
  {
   "cell_type": "code",
   "execution_count": null,
   "id": "bb709872",
   "metadata": {},
   "outputs": [],
   "source": [
    "# def encode_data(dataset_path, output_path):\n",
    "#     dataset = []\n",
    "#     labels = []\n",
    "#     os.makedirs(output_path, exist_ok=True)\n",
    "#     mapping_path = os.path.join(output_path, 'label_mapping.json')\n",
    "\n",
    "#     if os.path.exists(mapping_path):\n",
    "#         with open(mapping_path, 'r') as f:\n",
    "#             label_mapping = json.load(f)\n",
    "#     else:\n",
    "#         label_mapping = {}\n",
    "        \n",
    "#     for label in os.listdir(dataset_path):\n",
    "#         if label not in label_mapping:\n",
    "#             label_mapping[label] = len(label_mapping)\n",
    "            \n",
    "#     with open(mapping_path, 'w') as f:\n",
    "#         json.dump(label_mapping, f)\n",
    "        \n",
    "#     for label in os.listdir(dataset_path):\n",
    "#         for filename in os.listdir(os.path.join(dataset_path, label)):\n",
    "#             frame = cv2.imread(os.path.join(dataset_path, label, filename))\n",
    "#             frame = cv2.cvtColor(frame, cv2.COLOR_BGR2RGB)\n",
    "#             landmarks = get_hands_landmarks(frame)\n",
    "#             if np.all(landmarks == 0):\n",
    "#                 continue\n",
    "#             dataset.append(landmarks)\n",
    "#             labels.append(label_mapping[label])\n",
    "            \n",
    "#     dataset = np.array(dataset)\n",
    "#     labels = np.array(labels)\n",
    "#     np.save(os.path.join(output_path, 'dataset.npy'), dataset)\n",
    "#     np.save(os.path.join(output_path, 'labels.npy'), labels)\n",
    "    \n",
    "# encode_data('../Dataset', '../Encoded Data')"
   ]
  },
  {
   "cell_type": "code",
   "execution_count": null,
   "id": "9b0cd8c6",
   "metadata": {},
   "outputs": [],
   "source": [
    "def encode_new_only(dataset_path, output_path, new_label):\n",
    "    dataset = np.load(os.path.join(output_path, 'dataset.npy'))\n",
    "    labels = np.load(os.path.join(output_path, 'labels.npy'))\n",
    "    mapping_path = os.path.join(output_path, 'label_mapping.json')\n",
    "    \n",
    "    with open(mapping_path, 'r') as f:\n",
    "        label_mapping = json.load(f)\n",
    "        \n",
    "    if new_label not in label_mapping:\n",
    "        label_mapping[new_label] = len(label_mapping)\n",
    "        \n",
    "    with open(mapping_path, 'w') as f:\n",
    "        json.dump(label_mapping, f)\n",
    "        \n",
    "    new_dataset = []\n",
    "    new_labels = []\n",
    "    for filename in os.listdir(os.path.join(dataset_path, new_label)):\n",
    "        frame = cv2.imread(os.path.join(dataset_path, new_label, filename))\n",
    "        frame = cv2.cvtColor(frame, cv2.COLOR_BGR2RGB)\n",
    "        landmarks = get_hands_landmarks(frame)\n",
    "        if np.all(landmarks == 0):\n",
    "            continue\n",
    "        new_dataset.append(landmarks)\n",
    "        new_labels.append(label_mapping[new_label])\n",
    "        \n",
    "    new_dataset = np.array(new_dataset)\n",
    "    new_labels = np.array(new_labels)\n",
    "    dataset = np.concatenate((dataset, new_dataset))\n",
    "    labels = np.concatenate((labels, new_labels))\n",
    "    np.save(os.path.join(output_path, 'dataset.npy'), dataset)\n",
    "    np.save(os.path.join(output_path, 'labels.npy'), labels)\n",
    "    \n",
    "encode_new_only('../Dataset', '../Encoded Data', new_label)"
   ]
  },
  {
   "cell_type": "code",
   "execution_count": null,
   "id": "63ffdf28",
   "metadata": {},
   "outputs": [
    {
     "name": "stdout",
     "output_type": "stream",
     "text": [
      "(367, 42, 3) (367,) 9\n"
     ]
    }
   ],
   "source": [
    "def load_data(data_path):\n",
    "    dataset = np.load(os.path.join(data_path, 'dataset.npy'))\n",
    "    labels = np.load(os.path.join(data_path, 'labels.npy'))\n",
    "    label_mapping = json.load(open(os.path.join(data_path, 'label_mapping.json'), 'r'))\n",
    "    return dataset, labels, label_mapping\n",
    "\n",
    "X, y, label_mapping = load_data('../Encoded Data')\n",
    "num_classes = len(label_mapping)\n",
    "print(X.shape, y.shape, num_classes)"
   ]
  },
  {
   "cell_type": "code",
   "execution_count": null,
   "id": "1f2ce14b",
   "metadata": {},
   "outputs": [
    {
     "name": "stdout",
     "output_type": "stream",
     "text": [
      "(293, 42, 3) (293,) (74, 42, 3) (74,)\n"
     ]
    }
   ],
   "source": [
    "from sklearn.model_selection import train_test_split\n",
    "\n",
    "X_train, X_test, y_train, y_test = train_test_split(X, y, test_size=0.2, random_state=42)\n",
    "print(X_train.shape, y_train.shape, X_test.shape, y_test.shape)"
   ]
  },
  {
   "cell_type": "code",
   "execution_count": null,
   "id": "1d52ea24",
   "metadata": {},
   "outputs": [
    {
     "name": "stdout",
     "output_type": "stream",
     "text": [
      "Training only the classification layer\n",
      "\n",
      "Epoch 1/100\n",
      "10/10 [==============================] - 1s 41ms/step - loss: 4.3911 - accuracy: 0.0648 - val_loss: 3.3833 - val_accuracy: 0.1216\n",
      "Epoch 2/100\n",
      "10/10 [==============================] - 0s 9ms/step - loss: 3.4251 - accuracy: 0.0819 - val_loss: 2.8164 - val_accuracy: 0.1622\n",
      "Epoch 3/100\n",
      "10/10 [==============================] - 0s 11ms/step - loss: 2.8262 - accuracy: 0.0990 - val_loss: 2.4821 - val_accuracy: 0.2162\n",
      "Epoch 4/100\n",
      "10/10 [==============================] - 0s 10ms/step - loss: 2.4405 - accuracy: 0.1399 - val_loss: 2.2111 - val_accuracy: 0.2162\n",
      "Epoch 5/100\n",
      "10/10 [==============================] - 0s 10ms/step - loss: 2.1390 - accuracy: 0.2253 - val_loss: 2.0203 - val_accuracy: 0.3108\n",
      "Epoch 6/100\n",
      "10/10 [==============================] - 0s 10ms/step - loss: 1.9204 - accuracy: 0.3413 - val_loss: 1.8977 - val_accuracy: 0.3378\n",
      "Epoch 7/100\n",
      "10/10 [==============================] - 0s 10ms/step - loss: 1.7477 - accuracy: 0.3857 - val_loss: 1.8165 - val_accuracy: 0.3243\n",
      "Epoch 8/100\n",
      "10/10 [==============================] - 0s 10ms/step - loss: 1.6241 - accuracy: 0.4027 - val_loss: 1.7150 - val_accuracy: 0.3514\n",
      "Epoch 9/100\n",
      "10/10 [==============================] - 0s 9ms/step - loss: 1.5339 - accuracy: 0.4573 - val_loss: 1.5992 - val_accuracy: 0.3649\n",
      "Epoch 10/100\n",
      "10/10 [==============================] - 0s 12ms/step - loss: 1.4307 - accuracy: 0.4642 - val_loss: 1.5706 - val_accuracy: 0.3378\n",
      "Epoch 11/100\n",
      "10/10 [==============================] - 0s 9ms/step - loss: 1.3511 - accuracy: 0.5085 - val_loss: 1.5162 - val_accuracy: 0.3919\n",
      "Epoch 12/100\n",
      "10/10 [==============================] - 0s 10ms/step - loss: 1.2816 - accuracy: 0.5597 - val_loss: 1.4717 - val_accuracy: 0.4459\n",
      "Epoch 13/100\n",
      "10/10 [==============================] - 0s 10ms/step - loss: 1.2211 - accuracy: 0.6007 - val_loss: 1.4444 - val_accuracy: 0.4459\n",
      "Epoch 14/100\n",
      "10/10 [==============================] - 0s 11ms/step - loss: 1.1748 - accuracy: 0.6348 - val_loss: 1.4133 - val_accuracy: 0.4865\n",
      "Epoch 15/100\n",
      "10/10 [==============================] - 0s 9ms/step - loss: 1.1225 - accuracy: 0.6485 - val_loss: 1.3585 - val_accuracy: 0.5405\n",
      "Epoch 16/100\n",
      "10/10 [==============================] - 0s 9ms/step - loss: 1.0793 - accuracy: 0.7065 - val_loss: 1.3302 - val_accuracy: 0.5270\n",
      "Epoch 17/100\n",
      "10/10 [==============================] - 0s 10ms/step - loss: 1.0443 - accuracy: 0.7133 - val_loss: 1.2905 - val_accuracy: 0.5946\n",
      "Epoch 18/100\n",
      "10/10 [==============================] - 0s 12ms/step - loss: 1.0100 - accuracy: 0.7201 - val_loss: 1.2800 - val_accuracy: 0.5946\n",
      "Epoch 19/100\n",
      "10/10 [==============================] - 0s 9ms/step - loss: 0.9821 - accuracy: 0.7167 - val_loss: 1.2537 - val_accuracy: 0.5946\n",
      "Epoch 20/100\n",
      "10/10 [==============================] - 0s 10ms/step - loss: 0.9479 - accuracy: 0.7474 - val_loss: 1.2223 - val_accuracy: 0.6216\n",
      "Epoch 21/100\n",
      "10/10 [==============================] - 0s 9ms/step - loss: 0.9192 - accuracy: 0.7577 - val_loss: 1.2204 - val_accuracy: 0.6081\n",
      "Epoch 22/100\n",
      "10/10 [==============================] - 0s 16ms/step - loss: 0.8942 - accuracy: 0.7782 - val_loss: 1.1835 - val_accuracy: 0.6757\n",
      "Epoch 23/100\n",
      "10/10 [==============================] - 0s 9ms/step - loss: 0.8712 - accuracy: 0.7747 - val_loss: 1.1958 - val_accuracy: 0.6486\n",
      "Epoch 24/100\n",
      "10/10 [==============================] - 0s 11ms/step - loss: 0.8504 - accuracy: 0.7952 - val_loss: 1.1820 - val_accuracy: 0.6622\n",
      "Epoch 25/100\n",
      "10/10 [==============================] - 0s 9ms/step - loss: 0.8347 - accuracy: 0.7952 - val_loss: 1.1609 - val_accuracy: 0.6757\n",
      "Epoch 26/100\n",
      "10/10 [==============================] - 0s 9ms/step - loss: 0.8142 - accuracy: 0.7918 - val_loss: 1.1445 - val_accuracy: 0.7027\n",
      "Epoch 27/100\n",
      "10/10 [==============================] - 0s 9ms/step - loss: 0.7973 - accuracy: 0.7918 - val_loss: 1.1421 - val_accuracy: 0.6757\n",
      "Epoch 28/100\n",
      "10/10 [==============================] - 0s 11ms/step - loss: 0.7772 - accuracy: 0.8123 - val_loss: 1.1183 - val_accuracy: 0.6892\n",
      "Epoch 29/100\n",
      "10/10 [==============================] - 0s 12ms/step - loss: 0.7606 - accuracy: 0.8055 - val_loss: 1.1063 - val_accuracy: 0.7162\n",
      "Epoch 30/100\n",
      "10/10 [==============================] - 0s 12ms/step - loss: 0.7474 - accuracy: 0.8089 - val_loss: 1.1237 - val_accuracy: 0.6622\n",
      "Epoch 31/100\n",
      "10/10 [==============================] - 0s 12ms/step - loss: 0.7339 - accuracy: 0.8191 - val_loss: 1.0908 - val_accuracy: 0.6757\n",
      "Epoch 32/100\n",
      "10/10 [==============================] - 0s 11ms/step - loss: 0.7185 - accuracy: 0.8157 - val_loss: 1.0829 - val_accuracy: 0.7297\n",
      "Epoch 33/100\n",
      "10/10 [==============================] - 0s 12ms/step - loss: 0.7088 - accuracy: 0.8259 - val_loss: 1.0830 - val_accuracy: 0.7162\n",
      "Epoch 34/100\n",
      "10/10 [==============================] - 0s 9ms/step - loss: 0.6982 - accuracy: 0.8191 - val_loss: 1.0908 - val_accuracy: 0.6622\n",
      "Epoch 35/100\n",
      "10/10 [==============================] - 0s 9ms/step - loss: 0.6925 - accuracy: 0.8157 - val_loss: 1.0880 - val_accuracy: 0.6757\n",
      "Epoch 36/100\n",
      "10/10 [==============================] - 0s 10ms/step - loss: 0.6851 - accuracy: 0.8225 - val_loss: 1.0687 - val_accuracy: 0.6892\n",
      "Epoch 37/100\n",
      "10/10 [==============================] - 0s 10ms/step - loss: 0.6664 - accuracy: 0.8225 - val_loss: 1.0652 - val_accuracy: 0.6622\n",
      "Epoch 38/100\n",
      "10/10 [==============================] - 0s 9ms/step - loss: 0.6594 - accuracy: 0.8362 - val_loss: 1.0238 - val_accuracy: 0.7432\n",
      "Epoch 39/100\n",
      "10/10 [==============================] - 0s 8ms/step - loss: 0.6455 - accuracy: 0.8294 - val_loss: 1.0419 - val_accuracy: 0.7162\n",
      "Epoch 40/100\n",
      "10/10 [==============================] - 0s 9ms/step - loss: 0.6355 - accuracy: 0.8396 - val_loss: 1.0268 - val_accuracy: 0.7297\n",
      "Epoch 41/100\n",
      "10/10 [==============================] - 0s 9ms/step - loss: 0.6311 - accuracy: 0.8430 - val_loss: 1.0335 - val_accuracy: 0.7027\n",
      "Epoch 42/100\n",
      "10/10 [==============================] - 0s 9ms/step - loss: 0.6228 - accuracy: 0.8430 - val_loss: 1.0219 - val_accuracy: 0.7432\n",
      "Epoch 43/100\n",
      "10/10 [==============================] - 0s 8ms/step - loss: 0.6115 - accuracy: 0.8430 - val_loss: 1.0258 - val_accuracy: 0.7162\n",
      "Epoch 44/100\n",
      "10/10 [==============================] - 0s 9ms/step - loss: 0.6036 - accuracy: 0.8464 - val_loss: 1.0290 - val_accuracy: 0.7027\n",
      "Epoch 45/100\n",
      "10/10 [==============================] - 0s 9ms/step - loss: 0.5971 - accuracy: 0.8498 - val_loss: 1.0117 - val_accuracy: 0.7432\n",
      "Epoch 46/100\n",
      "10/10 [==============================] - 0s 9ms/step - loss: 0.5907 - accuracy: 0.8464 - val_loss: 1.0033 - val_accuracy: 0.7432\n",
      "Epoch 47/100\n",
      "10/10 [==============================] - 0s 9ms/step - loss: 0.5907 - accuracy: 0.8430 - val_loss: 0.9979 - val_accuracy: 0.7568\n",
      "Epoch 48/100\n",
      "10/10 [==============================] - 0s 9ms/step - loss: 0.5809 - accuracy: 0.8464 - val_loss: 1.0058 - val_accuracy: 0.7162\n",
      "Epoch 49/100\n",
      "10/10 [==============================] - 0s 9ms/step - loss: 0.5699 - accuracy: 0.8498 - val_loss: 1.0165 - val_accuracy: 0.7162\n",
      "Epoch 50/100\n",
      "10/10 [==============================] - 0s 9ms/step - loss: 0.5662 - accuracy: 0.8396 - val_loss: 0.9987 - val_accuracy: 0.7568\n",
      "Epoch 51/100\n",
      "10/10 [==============================] - 0s 9ms/step - loss: 0.5590 - accuracy: 0.8601 - val_loss: 1.0006 - val_accuracy: 0.7297\n",
      "Epoch 52/100\n",
      "10/10 [==============================] - 0s 10ms/step - loss: 0.5621 - accuracy: 0.8532 - val_loss: 1.0210 - val_accuracy: 0.6757\n",
      "Fine-tuning the model\n",
      "\n",
      "Epoch 1/10\n",
      "10/10 [==============================] - 2s 43ms/step - loss: 0.7694 - accuracy: 0.7235 - val_loss: 1.2673 - val_accuracy: 0.5811\n",
      "Epoch 2/10\n",
      "10/10 [==============================] - 0s 14ms/step - loss: 0.7331 - accuracy: 0.7679 - val_loss: 1.0223 - val_accuracy: 0.7297\n",
      "Epoch 3/10\n",
      "10/10 [==============================] - 0s 13ms/step - loss: 0.6678 - accuracy: 0.7850 - val_loss: 1.0587 - val_accuracy: 0.6622\n",
      "Epoch 4/10\n",
      "10/10 [==============================] - 0s 14ms/step - loss: 0.5663 - accuracy: 0.8328 - val_loss: 1.0499 - val_accuracy: 0.6351\n",
      "Epoch 5/10\n",
      "10/10 [==============================] - 0s 14ms/step - loss: 0.5582 - accuracy: 0.8259 - val_loss: 1.0108 - val_accuracy: 0.7027\n",
      "Epoch 6/10\n",
      "10/10 [==============================] - 0s 13ms/step - loss: 0.5744 - accuracy: 0.8294 - val_loss: 1.0956 - val_accuracy: 0.6486\n",
      "Epoch 7/10\n",
      "10/10 [==============================] - 0s 15ms/step - loss: 0.5367 - accuracy: 0.8362 - val_loss: 0.9649 - val_accuracy: 0.7162\n",
      "Epoch 8/10\n",
      "10/10 [==============================] - 0s 15ms/step - loss: 0.5660 - accuracy: 0.8328 - val_loss: 0.9567 - val_accuracy: 0.6892\n",
      "Epoch 9/10\n",
      "10/10 [==============================] - 0s 18ms/step - loss: 0.5612 - accuracy: 0.8396 - val_loss: 0.9943 - val_accuracy: 0.6351\n",
      "Epoch 10/10\n",
      "10/10 [==============================] - 0s 15ms/step - loss: 0.4946 - accuracy: 0.8601 - val_loss: 1.0011 - val_accuracy: 0.6892\n"
     ]
    }
   ],
   "source": [
    "base_model = tf.keras.models.load_model('../Models/base.keras')\n",
    "\n",
    "print(\"Training only the classification layer\\n\")\n",
    "base_model.trainable = False\n",
    "model = tf.keras.Sequential([\n",
    "    tf.keras.layers.Input(shape=(42, 3)),\n",
    "    base_model,\n",
    "    tf.keras.layers.Dense(num_classes, activation='softmax')\n",
    "])\n",
    "model.compile(optimizer='adam', loss='sparse_categorical_crossentropy', metrics=['accuracy'])\n",
    "early_stopping = tf.keras.callbacks.EarlyStopping(monitor='val_accuracy', patience=5, restore_best_weights=True)\n",
    "history1 = model.fit(X_train, y_train, validation_data=(X_test, y_test), epochs=100, callbacks=[early_stopping])\n",
    "\n",
    "print(\"\\n\\nFine-tuning the model\\n\")\n",
    "base_model.trainable = True\n",
    "model.compile(optimizer='adam', loss='sparse_categorical_crossentropy', metrics=['accuracy'])\n",
    "early_stopping = tf.keras.callbacks.EarlyStopping(monitor='val_accuracy', patience=5, restore_best_weights=True)\n",
    "history2 = model.fit(X_train, y_train, validation_data=(X_test, y_test), epochs=10, callbacks=[early_stopping])\n",
    "\n",
    "history = {}\n",
    "for key in history1.history:\n",
    "    history[key] = history1.history[key] + history2.history[key]"
   ]
  },
  {
   "cell_type": "code",
   "execution_count": null,
   "id": "771d56b6",
   "metadata": {},
   "outputs": [
    {
     "name": "stdout",
     "output_type": "stream",
     "text": [
      "10/10 [==============================] - 0s 4ms/step - loss: 0.4899 - accuracy: 0.8362\n"
     ]
    },
    {
     "data": {
      "text/plain": [
       "[0.48987171053886414, 0.8361774682998657]"
      ]
     },
     "metadata": {},
     "output_type": "display_data"
    }
   ],
   "source": [
    "model.evaluate(X_train, y_train)"
   ]
  },
  {
   "cell_type": "code",
   "execution_count": null,
   "id": "a32d8de3",
   "metadata": {},
   "outputs": [
    {
     "name": "stdout",
     "output_type": "stream",
     "text": [
      "3/3 [==============================] - 0s 7ms/step - loss: 1.0011 - accuracy: 0.6892\n"
     ]
    },
    {
     "data": {
      "text/plain": [
       "[1.0010868310928345, 0.6891891956329346]"
      ]
     },
     "metadata": {},
     "output_type": "display_data"
    }
   ],
   "source": [
    "model.evaluate(X_test, y_test)"
   ]
  },
  {
   "cell_type": "code",
   "execution_count": null,
   "id": "e77a7c1c",
   "metadata": {},
   "outputs": [
    {
     "data": {
      "image/png": "[encoded data removed]",
      "text/plain": [
       "<Figure size 1200x400 with 2 Axes>"
      ]
     },
     "metadata": {},
     "output_type": "display_data"
    }
   ],
   "source": [
    "import matplotlib.pyplot as plt\n",
    "\n",
    "plt.figure(figsize=(12, 4))\n",
    "plt.subplot(1, 2, 1)\n",
    "plt.plot(history['accuracy'], label='accuracy')\n",
    "plt.plot(history['val_accuracy'], label='val_accuracy')\n",
    "plt.xlabel('Epoch')\n",
    "plt.ylabel('Accuracy')\n",
    "plt.legend()\n",
    "plt.subplot(1, 2, 2)\n",
    "plt.plot(history['loss'], label='loss')\n",
    "plt.plot(history['val_loss'], label='val_loss')\n",
    "plt.xlabel('Epoch')\n",
    "plt.ylabel('Loss')\n",
    "plt.legend()\n",
    "plt.show()"
   ]
  },
  {
   "cell_type": "code",
   "execution_count": null,
   "id": "b97dcbf9",
   "metadata": {},
   "outputs": [],
   "source": [
    "os.makedirs('../Models', exist_ok=True)\n",
    "model.save('../Models/model.keras')\n",
    "base_model.save('../Models/base.keras')"
   ]
  },
  {
   "cell_type": "markdown",
   "id": "ab931d85",
   "metadata": {},
   "source": [
    "---"
   ]
  },
  {
   "cell_type": "markdown",
   "id": "4b1f9252",
   "metadata": {},
   "source": [
    "# Removing a gesture from the dataset"
   ]
  },
  {
   "cell_type": "code",
   "execution_count": null,
   "id": "8f00f453",
   "metadata": {},
   "outputs": [],
   "source": [
    "def remove_gesture(output_path, label):\n",
    "    dataset = np.load(os.path.join(output_path, 'dataset.npy'))\n",
    "    labels = np.load(os.path.join(output_path, 'labels.npy'))\n",
    "    mapping_path = os.path.join(output_path, 'label_mapping.json')\n",
    "    \n",
    "    with open(mapping_path, 'r') as f:\n",
    "        label_mapping = json.load(f)\n",
    "        \n",
    "    if label in label_mapping:\n",
    "        label_index = label_mapping[label]\n",
    "        mask = labels != label_index\n",
    "        dataset = dataset[mask]\n",
    "        labels = labels[mask]\n",
    "        label_mapping.pop(label)\n",
    "        \n",
    "        new_label_mapping = {}\n",
    "        for i, l in enumerate(label_mapping):\n",
    "            new_label_mapping[l] = i\n",
    "        \n",
    "        with open(mapping_path, 'w') as f:\n",
    "            json.dump(new_label_mapping, f)\n",
    "            \n",
    "        np.save(os.path.join(output_path, 'dataset.npy'), dataset)\n",
    "        np.save(os.path.join(output_path, 'labels.npy'), labels)\n",
    "        \n",
    "remove_gesture('../Encoded Data', 'hello')"
   ]
  }
 ],
 "metadata": {
  "kernelspec": {
   "display_name": "Python 3 (ipykernel)",
   "language": "python",
   "name": "python3"
  },
  "language_info": {
   "codemirror_mode": {
    "name": "ipython",
    "version": 3
   },
   "file_extension": ".py",
   "mimetype": "text/x-python",
   "name": "python",
   "nbconvert_exporter": "python",
   "pygments_lexer": "ipython3",
   "version": "3.11.5"
  }
 },
 "nbformat": 4,
 "nbformat_minor": 5
}
